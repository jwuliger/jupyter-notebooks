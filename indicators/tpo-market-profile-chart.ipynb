{
 "cells": [
  {
   "cell_type": "markdown",
   "metadata": {},
   "source": [
    "Fetch OHLCV data"
   ]
  },
  {
   "cell_type": "code",
   "execution_count": null,
   "metadata": {},
   "outputs": [],
   "source": [
    "import ccxt\n",
    "import pandas as pd\n",
    "\n",
    "def fetch_data(symbol='BTC/USDT', timeframe='1h', limit=1000):\n",
    "    # Initialize the Binance exchange object\n",
    "    binance = ccxt.binance()\n",
    "    \n",
    "    # Fetch OHLCV data\n",
    "    ohlcv = binance.fetch_ohlcv(symbol, timeframe, limit=limit)\n",
    "    \n",
    "    # Convert to DataFrame\n",
    "    df = pd.DataFrame(ohlcv, columns=['timestamp', 'open', 'high', 'low', 'close', 'volume'])\n",
    "    df['timestamp'] = pd.to_datetime(df['timestamp'], unit='ms')  # Convert timestamp to datetime format\n",
    "    df.set_index('timestamp', inplace=True)\n",
    "    \n",
    "    return df"
   ]
  },
  {
   "cell_type": "markdown",
   "metadata": {},
   "source": [
    "Method to save the data to a CSV file"
   ]
  },
  {
   "cell_type": "code",
   "execution_count": null,
   "metadata": {},
   "outputs": [],
   "source": [
    "def save_data_to_csv(df, filename=\"data.csv\"):\n",
    "    df.to_csv(filename)"
   ]
  },
  {
   "cell_type": "markdown",
   "metadata": {},
   "source": [
    "Calculate the Average True Range (ATR)"
   ]
  },
  {
   "cell_type": "code",
   "execution_count": null,
   "metadata": {},
   "outputs": [],
   "source": [
    "def calculate_atr(data):\n",
    "    # Calculate the true range\n",
    "    data['hl'] = data['high'] - data['low']\n",
    "    data['hc'] = abs(data['high'] - data['close'].shift(1))\n",
    "    data['lc'] = abs(data['low'] - data['close'].shift(1))\n",
    "    \n",
    "    # True range is the max of hl, hc, and lc\n",
    "    data['tr'] = data[['hl', 'hc', 'lc']].max(axis=1)\n",
    "    \n",
    "    # ATR is the average of the true range\n",
    "    atr = data['tr'].mean()\n",
    "    \n",
    "    return atr"
   ]
  },
  {
   "cell_type": "markdown",
   "metadata": {},
   "source": [
    "Fetch and save the data"
   ]
  },
  {
   "cell_type": "code",
   "execution_count": null,
   "metadata": {},
   "outputs": [],
   "source": [
    "data = fetch_data()\n",
    "\n",
    "# Save data to CSV\n",
    "# save_data_to_csv(data, \"btc_usdt_data.csv\")\n",
    "\n",
    "print(data.tail())"
   ]
  },
  {
   "cell_type": "markdown",
   "metadata": {},
   "source": [
    "Calculate the ATR"
   ]
  },
  {
   "cell_type": "code",
   "execution_count": null,
   "metadata": {},
   "outputs": [],
   "source": [
    "atr_value = calculate_atr(data)\n",
    "print(atr_value)"
   ]
  },
  {
   "cell_type": "markdown",
   "metadata": {},
   "source": [
    "Determine the Overall Price Range"
   ]
  },
  {
   "cell_type": "code",
   "execution_count": null,
   "metadata": {},
   "outputs": [],
   "source": [
    "lowest_price = data['low'].min()\n",
    "highest_price = data['high'].max()"
   ]
  },
  {
   "cell_type": "markdown",
   "metadata": {},
   "source": [
    "Create Price Intervals"
   ]
  },
  {
   "cell_type": "code",
   "execution_count": null,
   "metadata": {},
   "outputs": [],
   "source": [
    "interval_size = int(round(atr_value, -1))  # Round to nearest 10\n",
    "price_intervals = list(range(int(lowest_price), int(highest_price) + interval_size, interval_size))"
   ]
  },
  {
   "cell_type": "markdown",
   "metadata": {},
   "source": [
    "Display the results"
   ]
  },
  {
   "cell_type": "code",
   "execution_count": null,
   "metadata": {},
   "outputs": [],
   "source": [
    "print(\"Lowest Price:\", lowest_price)\n",
    "print(\"Highest Price:\", highest_price)\n",
    "print(\"First 5 Intervals:\", price_intervals[:5])"
   ]
  },
  {
   "cell_type": "markdown",
   "metadata": {},
   "source": [
    " Plot Symbols"
   ]
  },
  {
   "cell_type": "code",
   "execution_count": null,
   "metadata": {},
   "outputs": [],
   "source": [
    "def assign_interval(price, intervals):\n",
    "    \"\"\"Given a price, determine which interval it falls into.\"\"\"\n",
    "    for i in range(len(intervals) - 1):\n",
    "        if intervals[i] <= price < intervals[i+1]:\n",
    "            return intervals[i]\n",
    "    return None\n",
    "\n",
    "# Create a column in the data to store the interval for each hourly period\n",
    "data['interval'] = data['close'].apply(lambda x: assign_interval(x, price_intervals))\n",
    "\n",
    "# Create unique symbols for each hourly period\n",
    "data['symbol'] = [f\"A{str(i).zfill(2)}\" for i in range(1, len(data) + 1)]\n",
    "\n",
    "print(data[['close', 'interval', 'symbol']].tail(10))  # Displaying the last 10 rows for clarity"
   ]
  },
  {
   "cell_type": "markdown",
   "metadata": {},
   "source": [
    "Calculate POC, VAL, and VAH"
   ]
  },
  {
   "cell_type": "code",
   "execution_count": null,
   "metadata": {},
   "outputs": [],
   "source": [
    "# Determine POC, VAL, VAH\n",
    "interval_counts = data['interval'].value_counts()\n",
    "poc = interval_counts.idxmax()\n",
    "sorted_intervals = interval_counts.sort_values(ascending=False)\n",
    "cumulative_counts = sorted_intervals.cumsum()\n",
    "total_tpos = cumulative_counts.iloc[-1]\n",
    "\n",
    "# Start with 70% as the target for value area, but adjust if necessary\n",
    "value_area_percentage = 0.7\n",
    "\n",
    "# Calculate initial VAL and VAH\n",
    "val_vah_range = sorted_intervals[cumulative_counts <= value_area_percentage * total_tpos]\n",
    "val = val_vah_range.index.min()\n",
    "vah = val_vah_range.index.max()\n",
    "\n",
    "# If VAL is the same as POC, move it to the next significant TPO count\n",
    "if val == poc:\n",
    "    val = sorted_intervals.index[1]  # This takes the next highest TPO count after POC\n",
    "\n",
    "# Find closest intervals to the quantile-based VAL and VAH\n",
    "closest_val = min(price_intervals, key=lambda x: abs(x - val))\n",
    "closest_vah = min(price_intervals, key=lambda x: abs(x - vah))\n",
    "\n",
    "# Ensure minimum distance between VAL and VAH\n",
    "MIN_INTERVALS_BETWEEN_VAL_VAH = 3\n",
    "\n",
    "while (price_intervals.index(closest_vah) - price_intervals.index(closest_val)) < MIN_INTERVALS_BETWEEN_VAL_VAH:\n",
    "    # Check which boundary (VAL or VAH) can be expanded without including the POC\n",
    "    if price_intervals.index(poc) > price_intervals.index(closest_val) and price_intervals.index(closest_val) > 0:\n",
    "        closest_val = price_intervals[price_intervals.index(closest_val) - 1]\n",
    "    elif price_intervals.index(closest_vah) < len(price_intervals) - 1:\n",
    "        closest_vah = price_intervals[price_intervals.index(closest_vah) + 1]\n",
    "    else:\n",
    "        # Break out of the loop if we can't adjust further\n",
    "        break\n",
    "\n",
    "val = closest_val\n",
    "vah = closest_vah\n",
    "\n",
    "print(f\"POC: {poc}\")\n",
    "print(f\"VAL: {val}\")\n",
    "print(f\"VAH: {vah}\")"
   ]
  },
  {
   "cell_type": "markdown",
   "metadata": {},
   "source": [
    " Identify Single Prints"
   ]
  },
  {
   "cell_type": "code",
   "execution_count": null,
   "metadata": {},
   "outputs": [],
   "source": [
    "# Find intervals where only one TPO (symbol) occurred\n",
    "single_prints = interval_counts[interval_counts == 1].index.tolist()\n",
    "\n",
    "print(\"Single Prints:\", single_prints)"
   ]
  },
  {
   "cell_type": "markdown",
   "metadata": {},
   "source": [
    " Visualize the TPO chart using Plotly"
   ]
  },
  {
   "cell_type": "code",
   "execution_count": null,
   "metadata": {},
   "outputs": [],
   "source": [
    "import plotly.graph_objects as go\n",
    "\n",
    "# Create a candlestick chart\n",
    "fig = go.Figure(data=[go.Candlestick(x=data.index,\n",
    "                                     open=data['open'],\n",
    "                                     high=data['high'],\n",
    "                                     low=data['low'],\n",
    "                                     close=data['close'])])\n",
    "\n",
    "# Overlay the TPOs as text annotations with smaller font size and a distinct color\n",
    "for idx, row in data.iterrows():\n",
    "    fig.add_annotation(x=idx, y=row['interval'],\n",
    "                       text=row['symbol'],\n",
    "                       showarrow=False,\n",
    "                       font=dict(size=8, color='purple'))\n",
    "\n",
    "# Highlight the POC, VAL, and VAH using shapes\n",
    "shapes = [\n",
    "    dict(type='line', y0=poc, y1=poc, x0=data.index[0], x1=data.index[-1], line=dict(color='blue', width=1.5)),\n",
    "    dict(type='line', y0=val, y1=val, x0=data.index[0], x1=data.index[-1], line=dict(color='red', width=1.5, dash='dot')),\n",
    "    dict(type='line', y0=vah, y1=vah, x0=data.index[0], x1=data.index[-1], line=dict(color='green', width=1.5, dash='dot'))\n",
    "]\n",
    "\n",
    "# Adjust the yshift values for the annotations to prevent overlap\n",
    "fig.add_annotation(x=data.index[-1], y=poc, text=f\"POC: {poc}\", showarrow=False, yshift=20)\n",
    "fig.add_annotation(x=data.index[-1], y=val, text=f\"VAL: {val}\", showarrow=False, yshift=-20)\n",
    "fig.add_annotation(x=data.index[-1], y=vah, text=f\"VAH: {vah}\", showarrow=False, yshift=20)\n",
    "\n",
    "fig.update_layout(shapes=shapes, height=1200, template=\"plotly_dark\")\n",
    "\n",
    "# Mark the Single Prints with lines and labels\n",
    "for sp in single_prints:\n",
    "    fig.add_shape(type=\"line\",\n",
    "                  x0=data.index[0], x1=data.index[-1], y0=sp, y1=sp,\n",
    "                  line=dict(color=\"yellow\", width=1.5, dash=\"dashdot\"))\n",
    "    fig.add_annotation(x=data.index[-1], y=sp, text=f\"SP: {sp}\", showarrow=False, yshift=10)\n",
    "\n",
    "# Display the chart\n",
    "fig.show()\n"
   ]
  }
 ],
 "metadata": {
  "kernelspec": {
   "display_name": ".venv",
   "language": "python",
   "name": "python3"
  },
  "language_info": {
   "codemirror_mode": {
    "name": "ipython",
    "version": 3
   },
   "file_extension": ".py",
   "mimetype": "text/x-python",
   "name": "python",
   "nbconvert_exporter": "python",
   "pygments_lexer": "ipython3",
   "version": "3.10.10"
  }
 },
 "nbformat": 4,
 "nbformat_minor": 2
}
