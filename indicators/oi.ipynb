{
 "cells": [
  {
   "cell_type": "markdown",
   "metadata": {},
   "source": [
    "Import Libraries"
   ]
  },
  {
   "cell_type": "code",
   "execution_count": 8,
   "metadata": {},
   "outputs": [],
   "source": [
    "import ccxt.async_support as ccxt\n",
    "import asyncio"
   ]
  },
  {
   "cell_type": "markdown",
   "metadata": {},
   "source": [
    "Initialize Exchange"
   ]
  },
  {
   "cell_type": "code",
   "execution_count": 9,
   "metadata": {},
   "outputs": [],
   "source": [
    "exchange_id = 'binance'  # Replace with the actual exchange ID\n",
    "exchange_class = getattr(ccxt, exchange_id)\n",
    "exchange = exchange_class({\n",
    "    'enableRateLimit': True,  # Recommended by CCXT to avoid being rate-limited\n",
    "})"
   ]
  },
  {
   "cell_type": "markdown",
   "metadata": {},
   "source": [
    "Fetch Data Function"
   ]
  },
  {
   "cell_type": "code",
   "execution_count": 10,
   "metadata": {},
   "outputs": [],
   "source": [
    "async def fetch_oi(symbol):\n",
    "    if exchange.has['fetchOpenInterest']:\n",
    "        oi_data = await exchange.fetchOpenInterest(symbol)\n",
    "        print(oi_data)\n",
    "        return oi_data\n",
    "    else:\n",
    "        print(f\"The exchange {exchange_id} does not support fetching OI data.\")\n",
    "        return None"
   ]
  },
  {
   "cell_type": "markdown",
   "metadata": {},
   "source": [
    "Determine Event Function"
   ]
  },
  {
   "cell_type": "code",
   "execution_count": 11,
   "metadata": {},
   "outputs": [],
   "source": [
    "def determine_event(price_trend, oi_trend):\n",
    "    if price_trend == 'INCREASING' and oi_trend == 'INCREASING':\n",
    "        return 'LONGS OPENING'\n",
    "    elif price_trend == 'DECREASING' and oi_trend == 'DECREASING':\n",
    "        return 'LONGS CLOSING'\n",
    "    elif price_trend == 'DECREASING' and oi_trend == 'INCREASING':\n",
    "        return 'SHORTS OPENING'\n",
    "    elif price_trend == 'INCREASING' and oi_trend == 'DECREASING':\n",
    "        return 'SHORTS CLOSING'\n",
    "    else:\n",
    "        return 'UNKNOWN'\n",
    "    \n",
    "    # Placeholder functions for trend determination\n",
    "def determine_price_trend(price_data):\n",
    "    # This is a stub and should be replaced with actual logic to determine price trend\n",
    "    # For example, by comparing the current price with a moving average, etc.\n",
    "    return 'INCREASING' if price_data[-1] > price_data[-2] else 'DECREASING'\n",
    "\n",
    "def determine_oi_trend(oi_data):\n",
    "    # This is a stub and should be replaced with actual logic to determine OI trend\n",
    "    # For instance, by comparing the latest OI data with previous data.\n",
    "    return 'INCREASING' if oi_data['open_interest'] > oi_data['prev_open_interest'] else 'DECREASING'\n"
   ]
  },
  {
   "cell_type": "markdown",
   "metadata": {},
   "source": [
    "Main Async Function"
   ]
  },
  {
   "cell_type": "code",
   "execution_count": 12,
   "metadata": {},
   "outputs": [
    {
     "name": "stderr",
     "output_type": "stream",
     "text": [
      "C:\\Users\\jared\\AppData\\Local\\Programs\\Python\\Python311\\Lib\\json\\decoder.py:353: RuntimeWarning: coroutine 'main' was never awaited\n",
      "  obj, end = self.scan_once(s, idx)\n",
      "RuntimeWarning: Enable tracemalloc to get the object allocation traceback\n"
     ]
    },
    {
     "name": "stdout",
     "output_type": "stream",
     "text": [
      "{'symbol': 'BTC/USDT:USDT', 'baseVolume': 78857.45, 'quoteVolume': None, 'openInterestAmount': 78857.45, 'openInterestValue': None, 'timestamp': 1700220916097, 'datetime': '2023-11-17T11:35:16.097Z', 'info': {'symbol': 'BTCUSDT', 'openInterest': '78857.450', 'time': '1700220916097'}}\n"
     ]
    },
    {
     "ename": "KeyError",
     "evalue": "-1",
     "output_type": "error",
     "traceback": [
      "\u001b[1;31m---------------------------------------------------------------------------\u001b[0m",
      "\u001b[1;31mKeyError\u001b[0m                                  Traceback (most recent call last)",
      "\u001b[1;32md:\\Developer\\2023\\Python\\jupyter-notebooks\\indicators\\oi.ipynb Cell 10\u001b[0m line \u001b[0;36m1\n\u001b[0;32m     <a href='vscode-notebook-cell:/d%3A/Developer/2023/Python/jupyter-notebooks/indicators/oi.ipynb#X12sZmlsZQ%3D%3D?line=9'>10</a>\u001b[0m     \u001b[39mawait\u001b[39;00m exchange\u001b[39m.\u001b[39mclose()\n\u001b[0;32m     <a href='vscode-notebook-cell:/d%3A/Developer/2023/Python/jupyter-notebooks/indicators/oi.ipynb#X12sZmlsZQ%3D%3D?line=11'>12</a>\u001b[0m \u001b[39m# Run the main function\u001b[39;00m\n\u001b[1;32m---> <a href='vscode-notebook-cell:/d%3A/Developer/2023/Python/jupyter-notebooks/indicators/oi.ipynb#X12sZmlsZQ%3D%3D?line=12'>13</a>\u001b[0m \u001b[39mawait\u001b[39;00m main()\n",
      "\u001b[1;32md:\\Developer\\2023\\Python\\jupyter-notebooks\\indicators\\oi.ipynb Cell 10\u001b[0m line \u001b[0;36m6\n\u001b[0;32m      <a href='vscode-notebook-cell:/d%3A/Developer/2023/Python/jupyter-notebooks/indicators/oi.ipynb#X12sZmlsZQ%3D%3D?line=2'>3</a>\u001b[0m oi_data \u001b[39m=\u001b[39m \u001b[39mawait\u001b[39;00m fetch_oi(symbol)\n\u001b[0;32m      <a href='vscode-notebook-cell:/d%3A/Developer/2023/Python/jupyter-notebooks/indicators/oi.ipynb#X12sZmlsZQ%3D%3D?line=3'>4</a>\u001b[0m \u001b[39mif\u001b[39;00m oi_data \u001b[39mis\u001b[39;00m \u001b[39mnot\u001b[39;00m \u001b[39mNone\u001b[39;00m:\n\u001b[0;32m      <a href='vscode-notebook-cell:/d%3A/Developer/2023/Python/jupyter-notebooks/indicators/oi.ipynb#X12sZmlsZQ%3D%3D?line=4'>5</a>\u001b[0m     \u001b[39m# Assume we have functions to determine the trend from oi_data\u001b[39;00m\n\u001b[1;32m----> <a href='vscode-notebook-cell:/d%3A/Developer/2023/Python/jupyter-notebooks/indicators/oi.ipynb#X12sZmlsZQ%3D%3D?line=5'>6</a>\u001b[0m     price_trend \u001b[39m=\u001b[39m determine_price_trend(oi_data)\n\u001b[0;32m      <a href='vscode-notebook-cell:/d%3A/Developer/2023/Python/jupyter-notebooks/indicators/oi.ipynb#X12sZmlsZQ%3D%3D?line=6'>7</a>\u001b[0m     oi_trend \u001b[39m=\u001b[39m determine_oi_trend(oi_data)\n\u001b[0;32m      <a href='vscode-notebook-cell:/d%3A/Developer/2023/Python/jupyter-notebooks/indicators/oi.ipynb#X12sZmlsZQ%3D%3D?line=7'>8</a>\u001b[0m     event \u001b[39m=\u001b[39m determine_event(price_trend, oi_trend)\n",
      "\u001b[1;32md:\\Developer\\2023\\Python\\jupyter-notebooks\\indicators\\oi.ipynb Cell 10\u001b[0m line \u001b[0;36m1\n\u001b[0;32m     <a href='vscode-notebook-cell:/d%3A/Developer/2023/Python/jupyter-notebooks/indicators/oi.ipynb#X12sZmlsZQ%3D%3D?line=13'>14</a>\u001b[0m \u001b[39mdef\u001b[39;00m \u001b[39mdetermine_price_trend\u001b[39m(price_data):\n\u001b[0;32m     <a href='vscode-notebook-cell:/d%3A/Developer/2023/Python/jupyter-notebooks/indicators/oi.ipynb#X12sZmlsZQ%3D%3D?line=14'>15</a>\u001b[0m     \u001b[39m# This is a stub and should be replaced with actual logic to determine price trend\u001b[39;00m\n\u001b[0;32m     <a href='vscode-notebook-cell:/d%3A/Developer/2023/Python/jupyter-notebooks/indicators/oi.ipynb#X12sZmlsZQ%3D%3D?line=15'>16</a>\u001b[0m     \u001b[39m# For example, by comparing the current price with a moving average, etc.\u001b[39;00m\n\u001b[1;32m---> <a href='vscode-notebook-cell:/d%3A/Developer/2023/Python/jupyter-notebooks/indicators/oi.ipynb#X12sZmlsZQ%3D%3D?line=16'>17</a>\u001b[0m     \u001b[39mreturn\u001b[39;00m \u001b[39m'\u001b[39m\u001b[39mINCREASING\u001b[39m\u001b[39m'\u001b[39m \u001b[39mif\u001b[39;00m price_data[\u001b[39m-\u001b[39;49m\u001b[39m1\u001b[39;49m] \u001b[39m>\u001b[39m price_data[\u001b[39m-\u001b[39m\u001b[39m2\u001b[39m] \u001b[39melse\u001b[39;00m \u001b[39m'\u001b[39m\u001b[39mDECREASING\u001b[39m\u001b[39m'\u001b[39m\n",
      "\u001b[1;31mKeyError\u001b[0m: -1"
     ]
    }
   ],
   "source": [
    "async def main():\n",
    "    symbol = 'BTC/USDT:USDT'  # Replace with the desired symbol\n",
    "    oi_data = await fetch_oi(symbol)\n",
    "    if oi_data is not None:\n",
    "        # Assume we have functions to determine the trend from oi_data\n",
    "        price_trend = determine_price_trend(oi_data)\n",
    "        oi_trend = determine_oi_trend(oi_data)\n",
    "        event = determine_event(price_trend, oi_trend)\n",
    "        print(f\"Event for {symbol}: {event}\")\n",
    "    await exchange.close()\n",
    "\n",
    "# Run the main function\n",
    "await main()\n"
   ]
  }
 ],
 "metadata": {
  "kernelspec": {
   "display_name": "venv",
   "language": "python",
   "name": "python3"
  },
  "language_info": {
   "codemirror_mode": {
    "name": "ipython",
    "version": 3
   },
   "file_extension": ".py",
   "mimetype": "text/x-python",
   "name": "python",
   "nbconvert_exporter": "python",
   "pygments_lexer": "ipython3",
   "version": "3.11.6"
  }
 },
 "nbformat": 4,
 "nbformat_minor": 2
}
