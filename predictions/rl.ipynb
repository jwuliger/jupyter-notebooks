{
 "cells": [
  {
   "cell_type": "markdown",
   "metadata": {},
   "source": [
    "Step 1: Installing Necessary Libraries"
   ]
  },
  {
   "cell_type": "code",
   "execution_count": 8,
   "metadata": {},
   "outputs": [],
   "source": [
    "# pip install ccxt stable-baselines3 gym"
   ]
  },
  {
   "cell_type": "markdown",
   "metadata": {},
   "source": [
    "Step 2: Data Collection with CCXT"
   ]
  },
  {
   "cell_type": "code",
   "execution_count": 9,
   "metadata": {},
   "outputs": [
    {
     "name": "stdout",
     "output_type": "stream",
     "text": [
      "             timestamp      open      high       low     close     volume\n",
      "0  2023-11-25 12:58:00  37721.71  37721.71  37721.70  37721.71   0.946657\n",
      "1  2023-11-25 12:59:00  37721.71  37721.71  37721.70  37721.71   4.276544\n",
      "2  2023-11-25 13:00:00  37721.71  37721.71  37714.69  37714.99   7.124302\n",
      "3  2023-11-25 13:01:00  37714.99  37715.00  37713.03  37713.03   2.961123\n",
      "4  2023-11-25 13:02:00  37713.03  37713.03  37705.05  37705.05   3.882039\n",
      "..                 ...       ...       ...       ...       ...        ...\n",
      "95 2023-11-25 14:33:00  37709.34  37718.33  37709.34  37718.30   2.627977\n",
      "96 2023-11-25 14:34:00  37718.30  37718.38  37718.30  37718.37   4.753171\n",
      "97 2023-11-25 14:35:00  37718.37  37718.45  37717.62  37717.63  13.224757\n",
      "98 2023-11-25 14:36:00  37717.63  37717.63  37709.34  37709.35   3.324909\n",
      "99 2023-11-25 14:37:00  37709.35  37709.35  37709.34  37709.35   1.749011\n",
      "\n",
      "[100 rows x 6 columns]\n"
     ]
    }
   ],
   "source": [
    "import ccxt\n",
    "import pandas as pd\n",
    "\n",
    "# Initialize MEXC exchange\n",
    "exchange = ccxt.mexc({\n",
    "    'enableRateLimit': True,\n",
    "})\n",
    "\n",
    "def fetch_candle_data(symbol, timeframe='1m', limit=100):\n",
    "    # Fetch historical candles\n",
    "    candles = exchange.fetch_ohlcv(symbol, timeframe, limit=limit)\n",
    "    \n",
    "    # Convert to DataFrame\n",
    "    columns = ['timestamp', 'open', 'high', 'low', 'close', 'volume']\n",
    "    df = pd.DataFrame(candles, columns=columns)\n",
    "    df['timestamp'] = pd.to_datetime(df['timestamp'], unit='ms')\n",
    "    return df\n",
    "\n",
    "# Example: Fetch last 100 minutes of BTC/USDT\n",
    "df = fetch_candle_data('BTC/USDT')\n",
    "print(df)"
   ]
  },
  {
   "cell_type": "markdown",
   "metadata": {},
   "source": [
    "Step 3: Defining the Reinforcement Learning Environment"
   ]
  },
  {
   "cell_type": "code",
   "execution_count": 10,
   "metadata": {},
   "outputs": [],
   "source": [
    "def discretize(price, data, num_buckets=20):\n",
    "    \"\"\"\n",
    "    Discretize the closing price into one of the defined buckets.\n",
    "    \"\"\"\n",
    "    bucket_size = (data['close'].max() - data['close'].min()) / num_buckets\n",
    "    index = int((price - data['close'].min()) / bucket_size)\n",
    "    return min(index, num_buckets - 1)  # Ensure index is within bounds"
   ]
  },
  {
   "cell_type": "code",
   "execution_count": 11,
   "metadata": {},
   "outputs": [],
   "source": [
    "import numpy as np\n",
    "import random\n",
    "\n",
    "class TradingEnv:\n",
    "    def __init__(self, data):\n",
    "        self.data = data\n",
    "        self.reset()\n",
    "\n",
    "    def reset(self):\n",
    "        self.current_step = 0\n",
    "        self.done = False\n",
    "        return self._next_observation()\n",
    "\n",
    "    def _next_observation(self):\n",
    "        # Discretize the closing price\n",
    "        discretized_price = discretize(self.data.iloc[self.current_step]['close'], self.data)\n",
    "        return np.array([discretized_price])\n",
    "\n",
    "    def step(self, action):\n",
    "        self.current_step += 1\n",
    "        if self.current_step >= len(self.data) - 1:\n",
    "            self.done = True\n",
    "\n",
    "        reward = 0\n",
    "        next_closing_price = self.data.iloc[self.current_step]['close']\n",
    "        previous_closing_price = self.data.iloc[self.current_step - 1]['close']\n",
    "\n",
    "        if (action == 0 and next_closing_price < previous_closing_price) or \\\n",
    "           (action == 1 and next_closing_price > previous_closing_price):\n",
    "            reward = 1  # Correct prediction\n",
    "        else:\n",
    "            reward = -1  # Incorrect prediction\n",
    "\n",
    "        return self._next_observation(), reward, self.done\n",
    "\n",
    "env = TradingEnv(df)"
   ]
  },
  {
   "cell_type": "markdown",
   "metadata": {},
   "source": [
    "Step 4: Implementing the Q-learning Algorithm & Model Training"
   ]
  },
  {
   "cell_type": "code",
   "execution_count": 12,
   "metadata": {},
   "outputs": [
    {
     "name": "stdout",
     "output_type": "stream",
     "text": [
      "Episode: 1, Total Reward: -15\n",
      "Episode: 2, Total Reward: -13\n",
      "Episode: 3, Total Reward: -17\n",
      "Episode: 4, Total Reward: -13\n",
      "Episode: 5, Total Reward: -15\n",
      "Episode: 6, Total Reward: 1\n",
      "Episode: 7, Total Reward: -5\n",
      "Episode: 8, Total Reward: 7\n",
      "Episode: 9, Total Reward: -3\n",
      "Episode: 10, Total Reward: 5\n",
      "Episode: 11, Total Reward: 3\n",
      "Episode: 12, Total Reward: 5\n",
      "Episode: 13, Total Reward: 3\n",
      "Episode: 14, Total Reward: 9\n",
      "Episode: 15, Total Reward: 11\n",
      "Episode: 16, Total Reward: 9\n",
      "Episode: 17, Total Reward: 3\n",
      "Episode: 18, Total Reward: -1\n",
      "Episode: 19, Total Reward: 7\n",
      "Episode: 20, Total Reward: -1\n",
      "Episode: 21, Total Reward: -1\n",
      "Episode: 22, Total Reward: 3\n",
      "Episode: 23, Total Reward: 9\n",
      "Episode: 24, Total Reward: 1\n",
      "Episode: 25, Total Reward: 3\n",
      "Episode: 26, Total Reward: 5\n",
      "Episode: 27, Total Reward: 5\n",
      "Episode: 28, Total Reward: 7\n",
      "Episode: 29, Total Reward: 5\n",
      "Episode: 30, Total Reward: 7\n",
      "Episode: 31, Total Reward: 11\n",
      "Episode: 32, Total Reward: 5\n",
      "Episode: 33, Total Reward: 3\n",
      "Episode: 34, Total Reward: 7\n",
      "Episode: 35, Total Reward: 13\n",
      "Episode: 36, Total Reward: 1\n",
      "Episode: 37, Total Reward: 1\n",
      "Episode: 38, Total Reward: 3\n",
      "Episode: 39, Total Reward: 7\n",
      "Episode: 40, Total Reward: 5\n",
      "Episode: 41, Total Reward: 7\n",
      "Episode: 42, Total Reward: 9\n",
      "Episode: 43, Total Reward: 9\n",
      "Episode: 44, Total Reward: 7\n",
      "Episode: 45, Total Reward: 9\n",
      "Episode: 46, Total Reward: 7\n",
      "Episode: 47, Total Reward: 3\n",
      "Episode: 48, Total Reward: -1\n",
      "Episode: 49, Total Reward: 7\n",
      "Episode: 50, Total Reward: 9\n",
      "Episode: 51, Total Reward: 3\n",
      "Episode: 52, Total Reward: 3\n",
      "Episode: 53, Total Reward: 5\n",
      "Episode: 54, Total Reward: 9\n",
      "Episode: 55, Total Reward: 9\n",
      "Episode: 56, Total Reward: 7\n",
      "Episode: 57, Total Reward: 9\n",
      "Episode: 58, Total Reward: 11\n",
      "Episode: 59, Total Reward: 11\n",
      "Episode: 60, Total Reward: 9\n",
      "Episode: 61, Total Reward: -1\n",
      "Episode: 62, Total Reward: 9\n",
      "Episode: 63, Total Reward: 7\n",
      "Episode: 64, Total Reward: 7\n",
      "Episode: 65, Total Reward: 3\n",
      "Episode: 66, Total Reward: 7\n",
      "Episode: 67, Total Reward: 1\n",
      "Episode: 68, Total Reward: 3\n",
      "Episode: 69, Total Reward: 11\n",
      "Episode: 70, Total Reward: 13\n",
      "Episode: 71, Total Reward: 17\n",
      "Episode: 72, Total Reward: 7\n",
      "Episode: 73, Total Reward: 9\n",
      "Episode: 74, Total Reward: 13\n",
      "Episode: 75, Total Reward: 11\n",
      "Episode: 76, Total Reward: 9\n",
      "Episode: 77, Total Reward: 7\n",
      "Episode: 78, Total Reward: 3\n",
      "Episode: 79, Total Reward: 15\n",
      "Episode: 80, Total Reward: 9\n",
      "Episode: 81, Total Reward: 15\n",
      "Episode: 82, Total Reward: 7\n",
      "Episode: 83, Total Reward: 11\n",
      "Episode: 84, Total Reward: 7\n",
      "Episode: 85, Total Reward: 1\n",
      "Episode: 86, Total Reward: 5\n",
      "Episode: 87, Total Reward: 11\n",
      "Episode: 88, Total Reward: 11\n",
      "Episode: 89, Total Reward: 9\n",
      "Episode: 90, Total Reward: 9\n",
      "Episode: 91, Total Reward: 3\n",
      "Episode: 92, Total Reward: 9\n",
      "Episode: 93, Total Reward: 9\n",
      "Episode: 94, Total Reward: 5\n",
      "Episode: 95, Total Reward: 11\n",
      "Episode: 96, Total Reward: 7\n",
      "Episode: 97, Total Reward: 11\n",
      "Episode: 98, Total Reward: 7\n",
      "Episode: 99, Total Reward: 17\n",
      "Episode: 100, Total Reward: 5\n",
      "Episode: 101, Total Reward: 15\n",
      "Episode: 102, Total Reward: 3\n",
      "Episode: 103, Total Reward: 7\n",
      "Episode: 104, Total Reward: 5\n",
      "Episode: 105, Total Reward: 13\n",
      "Episode: 106, Total Reward: 7\n",
      "Episode: 107, Total Reward: 9\n",
      "Episode: 108, Total Reward: 11\n",
      "Episode: 109, Total Reward: 7\n",
      "Episode: 110, Total Reward: 11\n",
      "Episode: 111, Total Reward: 9\n",
      "Episode: 112, Total Reward: 9\n",
      "Episode: 113, Total Reward: 11\n",
      "Episode: 114, Total Reward: 7\n",
      "Episode: 115, Total Reward: 11\n",
      "Episode: 116, Total Reward: 11\n",
      "Episode: 117, Total Reward: 11\n",
      "Episode: 118, Total Reward: 11\n",
      "Episode: 119, Total Reward: 9\n",
      "Episode: 120, Total Reward: 7\n",
      "Episode: 121, Total Reward: 5\n",
      "Episode: 122, Total Reward: 7\n",
      "Episode: 123, Total Reward: 9\n",
      "Episode: 124, Total Reward: 9\n",
      "Episode: 125, Total Reward: 13\n",
      "Episode: 126, Total Reward: 13\n",
      "Episode: 127, Total Reward: 7\n",
      "Episode: 128, Total Reward: 7\n",
      "Episode: 129, Total Reward: 9\n",
      "Episode: 130, Total Reward: 7\n",
      "Episode: 131, Total Reward: 13\n",
      "Episode: 132, Total Reward: 1\n",
      "Episode: 133, Total Reward: 7\n",
      "Episode: 134, Total Reward: 3\n",
      "Episode: 135, Total Reward: 11\n",
      "Episode: 136, Total Reward: 11\n",
      "Episode: 137, Total Reward: 11\n",
      "Episode: 138, Total Reward: 13\n",
      "Episode: 139, Total Reward: 9\n",
      "Episode: 140, Total Reward: 5\n",
      "Episode: 141, Total Reward: 7\n",
      "Episode: 142, Total Reward: -1\n",
      "Episode: 143, Total Reward: 5\n",
      "Episode: 144, Total Reward: 3\n",
      "Episode: 145, Total Reward: 13\n",
      "Episode: 146, Total Reward: 11\n",
      "Episode: 147, Total Reward: 13\n",
      "Episode: 148, Total Reward: 5\n",
      "Episode: 149, Total Reward: 9\n",
      "Episode: 150, Total Reward: 5\n",
      "Episode: 151, Total Reward: 7\n",
      "Episode: 152, Total Reward: 11\n",
      "Episode: 153, Total Reward: 5\n",
      "Episode: 154, Total Reward: 15\n",
      "Episode: 155, Total Reward: 7\n",
      "Episode: 156, Total Reward: 11\n",
      "Episode: 157, Total Reward: 11\n",
      "Episode: 158, Total Reward: 7\n",
      "Episode: 159, Total Reward: 7\n",
      "Episode: 160, Total Reward: 9\n",
      "Episode: 161, Total Reward: 9\n",
      "Episode: 162, Total Reward: 7\n",
      "Episode: 163, Total Reward: 5\n",
      "Episode: 164, Total Reward: 13\n",
      "Episode: 165, Total Reward: 13\n",
      "Episode: 166, Total Reward: 9\n",
      "Episode: 167, Total Reward: 9\n",
      "Episode: 168, Total Reward: 15\n",
      "Episode: 169, Total Reward: 5\n",
      "Episode: 170, Total Reward: 13\n",
      "Episode: 171, Total Reward: 11\n",
      "Episode: 172, Total Reward: 9\n",
      "Episode: 173, Total Reward: 11\n",
      "Episode: 174, Total Reward: 5\n",
      "Episode: 175, Total Reward: 13\n",
      "Episode: 176, Total Reward: 9\n",
      "Episode: 177, Total Reward: 11\n",
      "Episode: 178, Total Reward: 15\n",
      "Episode: 179, Total Reward: 7\n",
      "Episode: 180, Total Reward: 3\n",
      "Episode: 181, Total Reward: 9\n",
      "Episode: 182, Total Reward: 7\n",
      "Episode: 183, Total Reward: 11\n",
      "Episode: 184, Total Reward: -1\n",
      "Episode: 185, Total Reward: 3\n",
      "Episode: 186, Total Reward: 5\n",
      "Episode: 187, Total Reward: 9\n",
      "Episode: 188, Total Reward: 7\n",
      "Episode: 189, Total Reward: 7\n",
      "Episode: 190, Total Reward: 7\n",
      "Episode: 191, Total Reward: 7\n",
      "Episode: 192, Total Reward: 5\n",
      "Episode: 193, Total Reward: 9\n",
      "Episode: 194, Total Reward: 7\n",
      "Episode: 195, Total Reward: 13\n",
      "Episode: 196, Total Reward: 3\n",
      "Episode: 197, Total Reward: 5\n",
      "Episode: 198, Total Reward: 11\n",
      "Episode: 199, Total Reward: 13\n",
      "Episode: 200, Total Reward: 1\n",
      "Episode: 201, Total Reward: 11\n",
      "Episode: 202, Total Reward: 1\n",
      "Episode: 203, Total Reward: 3\n",
      "Episode: 204, Total Reward: 3\n",
      "Episode: 205, Total Reward: 11\n",
      "Episode: 206, Total Reward: 9\n",
      "Episode: 207, Total Reward: 9\n",
      "Episode: 208, Total Reward: 5\n",
      "Episode: 209, Total Reward: 3\n",
      "Episode: 210, Total Reward: 5\n",
      "Episode: 211, Total Reward: 9\n",
      "Episode: 212, Total Reward: 11\n",
      "Episode: 213, Total Reward: 9\n",
      "Episode: 214, Total Reward: 7\n",
      "Episode: 215, Total Reward: 13\n",
      "Episode: 216, Total Reward: 9\n",
      "Episode: 217, Total Reward: 5\n",
      "Episode: 218, Total Reward: 11\n",
      "Episode: 219, Total Reward: -3\n",
      "Episode: 220, Total Reward: 5\n",
      "Episode: 221, Total Reward: 11\n",
      "Episode: 222, Total Reward: 5\n",
      "Episode: 223, Total Reward: 5\n",
      "Episode: 224, Total Reward: 7\n",
      "Episode: 225, Total Reward: 9\n",
      "Episode: 226, Total Reward: 7\n",
      "Episode: 227, Total Reward: 7\n",
      "Episode: 228, Total Reward: 11\n",
      "Episode: 229, Total Reward: 11\n",
      "Episode: 230, Total Reward: 7\n",
      "Episode: 231, Total Reward: 5\n",
      "Episode: 232, Total Reward: 7\n",
      "Episode: 233, Total Reward: 3\n",
      "Episode: 234, Total Reward: 13\n",
      "Episode: 235, Total Reward: 13\n",
      "Episode: 236, Total Reward: 9\n",
      "Episode: 237, Total Reward: 11\n",
      "Episode: 238, Total Reward: 7\n",
      "Episode: 239, Total Reward: 7\n",
      "Episode: 240, Total Reward: 7\n",
      "Episode: 241, Total Reward: 9\n",
      "Episode: 242, Total Reward: 5\n",
      "Episode: 243, Total Reward: -3\n",
      "Episode: 244, Total Reward: 11\n",
      "Episode: 245, Total Reward: 13\n",
      "Episode: 246, Total Reward: 9\n",
      "Episode: 247, Total Reward: 5\n",
      "Episode: 248, Total Reward: 5\n",
      "Episode: 249, Total Reward: 7\n",
      "Episode: 250, Total Reward: 3\n",
      "Episode: 251, Total Reward: 7\n",
      "Episode: 252, Total Reward: 9\n",
      "Episode: 253, Total Reward: 13\n",
      "Episode: 254, Total Reward: 9\n",
      "Episode: 255, Total Reward: 9\n",
      "Episode: 256, Total Reward: 9\n",
      "Episode: 257, Total Reward: 15\n",
      "Episode: 258, Total Reward: 3\n",
      "Episode: 259, Total Reward: 5\n",
      "Episode: 260, Total Reward: 9\n",
      "Episode: 261, Total Reward: 3\n",
      "Episode: 262, Total Reward: 3\n",
      "Episode: 263, Total Reward: 7\n",
      "Episode: 264, Total Reward: 7\n",
      "Episode: 265, Total Reward: 7\n",
      "Episode: 266, Total Reward: 7\n",
      "Episode: 267, Total Reward: 7\n",
      "Episode: 268, Total Reward: 5\n",
      "Episode: 269, Total Reward: 5\n",
      "Episode: 270, Total Reward: 15\n",
      "Episode: 271, Total Reward: 7\n",
      "Episode: 272, Total Reward: -1\n",
      "Episode: 273, Total Reward: 13\n",
      "Episode: 274, Total Reward: 11\n",
      "Episode: 275, Total Reward: 9\n",
      "Episode: 276, Total Reward: 1\n",
      "Episode: 277, Total Reward: 7\n",
      "Episode: 278, Total Reward: 7\n",
      "Episode: 279, Total Reward: 15\n",
      "Episode: 280, Total Reward: 11\n",
      "Episode: 281, Total Reward: 11\n",
      "Episode: 282, Total Reward: 5\n",
      "Episode: 283, Total Reward: 3\n",
      "Episode: 284, Total Reward: 11\n",
      "Episode: 285, Total Reward: 11\n",
      "Episode: 286, Total Reward: 7\n",
      "Episode: 287, Total Reward: 3\n",
      "Episode: 288, Total Reward: 9\n",
      "Episode: 289, Total Reward: 5\n",
      "Episode: 290, Total Reward: 13\n",
      "Episode: 291, Total Reward: 7\n",
      "Episode: 292, Total Reward: 7\n",
      "Episode: 293, Total Reward: 9\n",
      "Episode: 294, Total Reward: 13\n",
      "Episode: 295, Total Reward: 11\n",
      "Episode: 296, Total Reward: 7\n",
      "Episode: 297, Total Reward: 11\n",
      "Episode: 298, Total Reward: 9\n",
      "Episode: 299, Total Reward: 11\n",
      "Episode: 300, Total Reward: 11\n",
      "Episode: 301, Total Reward: 11\n",
      "Episode: 302, Total Reward: 9\n",
      "Episode: 303, Total Reward: 13\n",
      "Episode: 304, Total Reward: 11\n",
      "Episode: 305, Total Reward: 11\n",
      "Episode: 306, Total Reward: 11\n",
      "Episode: 307, Total Reward: 11\n",
      "Episode: 308, Total Reward: -3\n",
      "Episode: 309, Total Reward: 9\n",
      "Episode: 310, Total Reward: 9\n",
      "Episode: 311, Total Reward: 9\n",
      "Episode: 312, Total Reward: 15\n",
      "Episode: 313, Total Reward: 15\n",
      "Episode: 314, Total Reward: 3\n",
      "Episode: 315, Total Reward: 11\n",
      "Episode: 316, Total Reward: 9\n",
      "Episode: 317, Total Reward: 9\n",
      "Episode: 318, Total Reward: 15\n",
      "Episode: 319, Total Reward: 13\n",
      "Episode: 320, Total Reward: 5\n",
      "Episode: 321, Total Reward: 15\n",
      "Episode: 322, Total Reward: 9\n",
      "Episode: 323, Total Reward: 5\n",
      "Episode: 324, Total Reward: 11\n",
      "Episode: 325, Total Reward: 9\n",
      "Episode: 326, Total Reward: 11\n",
      "Episode: 327, Total Reward: 5\n",
      "Episode: 328, Total Reward: 5\n",
      "Episode: 329, Total Reward: 5\n",
      "Episode: 330, Total Reward: 3\n",
      "Episode: 331, Total Reward: 7\n",
      "Episode: 332, Total Reward: 11\n",
      "Episode: 333, Total Reward: 5\n",
      "Episode: 334, Total Reward: 11\n",
      "Episode: 335, Total Reward: 7\n",
      "Episode: 336, Total Reward: 15\n",
      "Episode: 337, Total Reward: 7\n",
      "Episode: 338, Total Reward: 11\n",
      "Episode: 339, Total Reward: -3\n",
      "Episode: 340, Total Reward: 3\n",
      "Episode: 341, Total Reward: 9\n",
      "Episode: 342, Total Reward: 9\n",
      "Episode: 343, Total Reward: 9\n",
      "Episode: 344, Total Reward: 7\n",
      "Episode: 345, Total Reward: 5\n",
      "Episode: 346, Total Reward: 11\n",
      "Episode: 347, Total Reward: 13\n",
      "Episode: 348, Total Reward: 13\n",
      "Episode: 349, Total Reward: 9\n",
      "Episode: 350, Total Reward: 3\n",
      "Episode: 351, Total Reward: 7\n",
      "Episode: 352, Total Reward: 5\n",
      "Episode: 353, Total Reward: 5\n",
      "Episode: 354, Total Reward: 9\n",
      "Episode: 355, Total Reward: 5\n",
      "Episode: 356, Total Reward: 9\n",
      "Episode: 357, Total Reward: 11\n",
      "Episode: 358, Total Reward: 9\n",
      "Episode: 359, Total Reward: 13\n",
      "Episode: 360, Total Reward: 5\n",
      "Episode: 361, Total Reward: 7\n",
      "Episode: 362, Total Reward: 7\n",
      "Episode: 363, Total Reward: 13\n",
      "Episode: 364, Total Reward: 9\n",
      "Episode: 365, Total Reward: 5\n",
      "Episode: 366, Total Reward: 5\n",
      "Episode: 367, Total Reward: 15\n",
      "Episode: 368, Total Reward: 13\n",
      "Episode: 369, Total Reward: 9\n",
      "Episode: 370, Total Reward: 11\n",
      "Episode: 371, Total Reward: 13\n",
      "Episode: 372, Total Reward: 15\n",
      "Episode: 373, Total Reward: 11\n",
      "Episode: 374, Total Reward: 15\n",
      "Episode: 375, Total Reward: 13\n",
      "Episode: 376, Total Reward: 11\n",
      "Episode: 377, Total Reward: 7\n",
      "Episode: 378, Total Reward: 11\n",
      "Episode: 379, Total Reward: 3\n",
      "Episode: 380, Total Reward: 9\n",
      "Episode: 381, Total Reward: 1\n",
      "Episode: 382, Total Reward: 13\n",
      "Episode: 383, Total Reward: 7\n",
      "Episode: 384, Total Reward: 5\n",
      "Episode: 385, Total Reward: 15\n",
      "Episode: 386, Total Reward: 5\n",
      "Episode: 387, Total Reward: 11\n",
      "Episode: 388, Total Reward: 15\n",
      "Episode: 389, Total Reward: 5\n",
      "Episode: 390, Total Reward: 9\n",
      "Episode: 391, Total Reward: 9\n",
      "Episode: 392, Total Reward: 9\n",
      "Episode: 393, Total Reward: 11\n",
      "Episode: 394, Total Reward: 11\n",
      "Episode: 395, Total Reward: 17\n",
      "Episode: 396, Total Reward: 11\n",
      "Episode: 397, Total Reward: 9\n",
      "Episode: 398, Total Reward: 7\n",
      "Episode: 399, Total Reward: 11\n",
      "Episode: 400, Total Reward: 7\n",
      "Episode: 401, Total Reward: 11\n",
      "Episode: 402, Total Reward: 9\n",
      "Episode: 403, Total Reward: 7\n",
      "Episode: 404, Total Reward: 11\n",
      "Episode: 405, Total Reward: 1\n",
      "Episode: 406, Total Reward: 5\n",
      "Episode: 407, Total Reward: 3\n",
      "Episode: 408, Total Reward: 7\n",
      "Episode: 409, Total Reward: 15\n",
      "Episode: 410, Total Reward: 7\n",
      "Episode: 411, Total Reward: 11\n",
      "Episode: 412, Total Reward: 5\n",
      "Episode: 413, Total Reward: 1\n",
      "Episode: 414, Total Reward: 5\n",
      "Episode: 415, Total Reward: 7\n",
      "Episode: 416, Total Reward: 11\n",
      "Episode: 417, Total Reward: 11\n",
      "Episode: 418, Total Reward: -3\n",
      "Episode: 419, Total Reward: 5\n",
      "Episode: 420, Total Reward: 11\n",
      "Episode: 421, Total Reward: 13\n",
      "Episode: 422, Total Reward: 13\n",
      "Episode: 423, Total Reward: 7\n",
      "Episode: 424, Total Reward: 11\n",
      "Episode: 425, Total Reward: 9\n",
      "Episode: 426, Total Reward: 13\n",
      "Episode: 427, Total Reward: 3\n",
      "Episode: 428, Total Reward: 7\n",
      "Episode: 429, Total Reward: 7\n",
      "Episode: 430, Total Reward: 1\n",
      "Episode: 431, Total Reward: 9\n",
      "Episode: 432, Total Reward: 11\n",
      "Episode: 433, Total Reward: 5\n",
      "Episode: 434, Total Reward: 7\n",
      "Episode: 435, Total Reward: 7\n",
      "Episode: 436, Total Reward: 11\n",
      "Episode: 437, Total Reward: 11\n",
      "Episode: 438, Total Reward: 17\n",
      "Episode: 439, Total Reward: 11\n",
      "Episode: 440, Total Reward: 9\n",
      "Episode: 441, Total Reward: 13\n",
      "Episode: 442, Total Reward: 7\n",
      "Episode: 443, Total Reward: 9\n",
      "Episode: 444, Total Reward: -3\n",
      "Episode: 445, Total Reward: 11\n",
      "Episode: 446, Total Reward: 9\n",
      "Episode: 447, Total Reward: 11\n",
      "Episode: 448, Total Reward: 3\n",
      "Episode: 449, Total Reward: 1\n",
      "Episode: 450, Total Reward: 9\n",
      "Episode: 451, Total Reward: 5\n",
      "Episode: 452, Total Reward: 9\n",
      "Episode: 453, Total Reward: 11\n",
      "Episode: 454, Total Reward: 7\n",
      "Episode: 455, Total Reward: 7\n",
      "Episode: 456, Total Reward: 5\n",
      "Episode: 457, Total Reward: 3\n",
      "Episode: 458, Total Reward: 9\n",
      "Episode: 459, Total Reward: 9\n",
      "Episode: 460, Total Reward: 5\n",
      "Episode: 461, Total Reward: 7\n",
      "Episode: 462, Total Reward: 13\n",
      "Episode: 463, Total Reward: 11\n",
      "Episode: 464, Total Reward: 9\n",
      "Episode: 465, Total Reward: 9\n",
      "Episode: 466, Total Reward: 9\n",
      "Episode: 467, Total Reward: -1\n",
      "Episode: 468, Total Reward: 9\n",
      "Episode: 469, Total Reward: 11\n",
      "Episode: 470, Total Reward: 5\n",
      "Episode: 471, Total Reward: 11\n",
      "Episode: 472, Total Reward: 11\n",
      "Episode: 473, Total Reward: 9\n",
      "Episode: 474, Total Reward: 11\n",
      "Episode: 475, Total Reward: 5\n",
      "Episode: 476, Total Reward: 13\n",
      "Episode: 477, Total Reward: 15\n",
      "Episode: 478, Total Reward: 9\n",
      "Episode: 479, Total Reward: 11\n",
      "Episode: 480, Total Reward: 5\n",
      "Episode: 481, Total Reward: 3\n",
      "Episode: 482, Total Reward: 11\n",
      "Episode: 483, Total Reward: 9\n",
      "Episode: 484, Total Reward: 9\n",
      "Episode: 485, Total Reward: 15\n",
      "Episode: 486, Total Reward: 5\n",
      "Episode: 487, Total Reward: 9\n",
      "Episode: 488, Total Reward: 7\n",
      "Episode: 489, Total Reward: 1\n",
      "Episode: 490, Total Reward: 1\n",
      "Episode: 491, Total Reward: 15\n",
      "Episode: 492, Total Reward: -3\n",
      "Episode: 493, Total Reward: 3\n",
      "Episode: 494, Total Reward: 3\n",
      "Episode: 495, Total Reward: 9\n",
      "Episode: 496, Total Reward: 11\n",
      "Episode: 497, Total Reward: 3\n",
      "Episode: 498, Total Reward: 1\n",
      "Episode: 499, Total Reward: 13\n",
      "Episode: 500, Total Reward: 5\n",
      "Episode: 501, Total Reward: 9\n",
      "Episode: 502, Total Reward: 9\n",
      "Episode: 503, Total Reward: 5\n",
      "Episode: 504, Total Reward: 13\n",
      "Episode: 505, Total Reward: 5\n",
      "Episode: 506, Total Reward: 13\n",
      "Episode: 507, Total Reward: 11\n",
      "Episode: 508, Total Reward: 11\n",
      "Episode: 509, Total Reward: 7\n",
      "Episode: 510, Total Reward: 15\n",
      "Episode: 511, Total Reward: 7\n",
      "Episode: 512, Total Reward: 5\n",
      "Episode: 513, Total Reward: 5\n",
      "Episode: 514, Total Reward: 11\n",
      "Episode: 515, Total Reward: 9\n",
      "Episode: 516, Total Reward: 3\n",
      "Episode: 517, Total Reward: 5\n",
      "Episode: 518, Total Reward: 3\n",
      "Episode: 519, Total Reward: 5\n",
      "Episode: 520, Total Reward: 7\n",
      "Episode: 521, Total Reward: 7\n",
      "Episode: 522, Total Reward: 7\n",
      "Episode: 523, Total Reward: 15\n",
      "Episode: 524, Total Reward: 15\n",
      "Episode: 525, Total Reward: 11\n",
      "Episode: 526, Total Reward: 3\n",
      "Episode: 527, Total Reward: 5\n",
      "Episode: 528, Total Reward: 9\n",
      "Episode: 529, Total Reward: 15\n",
      "Episode: 530, Total Reward: 1\n",
      "Episode: 531, Total Reward: 9\n",
      "Episode: 532, Total Reward: 9\n",
      "Episode: 533, Total Reward: 9\n",
      "Episode: 534, Total Reward: 9\n",
      "Episode: 535, Total Reward: 11\n",
      "Episode: 536, Total Reward: 1\n",
      "Episode: 537, Total Reward: 13\n",
      "Episode: 538, Total Reward: 1\n",
      "Episode: 539, Total Reward: 7\n",
      "Episode: 540, Total Reward: 7\n",
      "Episode: 541, Total Reward: 9\n",
      "Episode: 542, Total Reward: 7\n",
      "Episode: 543, Total Reward: 9\n",
      "Episode: 544, Total Reward: 9\n",
      "Episode: 545, Total Reward: 7\n",
      "Episode: 546, Total Reward: 13\n",
      "Episode: 547, Total Reward: 13\n",
      "Episode: 548, Total Reward: 9\n",
      "Episode: 549, Total Reward: 9\n",
      "Episode: 550, Total Reward: 9\n",
      "Episode: 551, Total Reward: 1\n",
      "Episode: 552, Total Reward: 7\n",
      "Episode: 553, Total Reward: 3\n",
      "Episode: 554, Total Reward: 5\n",
      "Episode: 555, Total Reward: 7\n",
      "Episode: 556, Total Reward: 9\n",
      "Episode: 557, Total Reward: 9\n",
      "Episode: 558, Total Reward: 9\n",
      "Episode: 559, Total Reward: 15\n",
      "Episode: 560, Total Reward: 5\n",
      "Episode: 561, Total Reward: 9\n",
      "Episode: 562, Total Reward: 7\n",
      "Episode: 563, Total Reward: 5\n",
      "Episode: 564, Total Reward: 7\n",
      "Episode: 565, Total Reward: 7\n",
      "Episode: 566, Total Reward: 11\n",
      "Episode: 567, Total Reward: 11\n",
      "Episode: 568, Total Reward: -1\n",
      "Episode: 569, Total Reward: 5\n",
      "Episode: 570, Total Reward: 5\n",
      "Episode: 571, Total Reward: 3\n",
      "Episode: 572, Total Reward: 9\n",
      "Episode: 573, Total Reward: 5\n",
      "Episode: 574, Total Reward: 7\n",
      "Episode: 575, Total Reward: 7\n",
      "Episode: 576, Total Reward: 5\n",
      "Episode: 577, Total Reward: 13\n",
      "Episode: 578, Total Reward: 9\n",
      "Episode: 579, Total Reward: 9\n",
      "Episode: 580, Total Reward: 9\n",
      "Episode: 581, Total Reward: -1\n",
      "Episode: 582, Total Reward: 9\n",
      "Episode: 583, Total Reward: 7\n",
      "Episode: 584, Total Reward: 7\n",
      "Episode: 585, Total Reward: 3\n",
      "Episode: 586, Total Reward: 7\n",
      "Episode: 587, Total Reward: 7\n",
      "Episode: 588, Total Reward: 9\n",
      "Episode: 589, Total Reward: 9\n",
      "Episode: 590, Total Reward: 5\n",
      "Episode: 591, Total Reward: 3\n",
      "Episode: 592, Total Reward: 9\n",
      "Episode: 593, Total Reward: 11\n",
      "Episode: 594, Total Reward: 3\n",
      "Episode: 595, Total Reward: 7\n",
      "Episode: 596, Total Reward: 7\n",
      "Episode: 597, Total Reward: 13\n",
      "Episode: 598, Total Reward: 11\n",
      "Episode: 599, Total Reward: 7\n",
      "Episode: 600, Total Reward: 7\n",
      "Episode: 601, Total Reward: 9\n",
      "Episode: 602, Total Reward: 9\n",
      "Episode: 603, Total Reward: 13\n",
      "Episode: 604, Total Reward: 7\n",
      "Episode: 605, Total Reward: 9\n",
      "Episode: 606, Total Reward: 5\n",
      "Episode: 607, Total Reward: 11\n",
      "Episode: 608, Total Reward: 7\n",
      "Episode: 609, Total Reward: 11\n",
      "Episode: 610, Total Reward: 11\n",
      "Episode: 611, Total Reward: 5\n",
      "Episode: 612, Total Reward: 1\n",
      "Episode: 613, Total Reward: 1\n",
      "Episode: 614, Total Reward: 7\n",
      "Episode: 615, Total Reward: 7\n",
      "Episode: 616, Total Reward: 11\n",
      "Episode: 617, Total Reward: 7\n",
      "Episode: 618, Total Reward: 13\n",
      "Episode: 619, Total Reward: 9\n",
      "Episode: 620, Total Reward: 11\n",
      "Episode: 621, Total Reward: 11\n",
      "Episode: 622, Total Reward: 3\n",
      "Episode: 623, Total Reward: 3\n",
      "Episode: 624, Total Reward: 9\n",
      "Episode: 625, Total Reward: 7\n",
      "Episode: 626, Total Reward: 13\n",
      "Episode: 627, Total Reward: 5\n",
      "Episode: 628, Total Reward: 9\n",
      "Episode: 629, Total Reward: 13\n",
      "Episode: 630, Total Reward: 7\n",
      "Episode: 631, Total Reward: 13\n",
      "Episode: 632, Total Reward: 7\n",
      "Episode: 633, Total Reward: 7\n",
      "Episode: 634, Total Reward: 17\n",
      "Episode: 635, Total Reward: 7\n",
      "Episode: 636, Total Reward: 7\n",
      "Episode: 637, Total Reward: 9\n",
      "Episode: 638, Total Reward: 7\n",
      "Episode: 639, Total Reward: 5\n",
      "Episode: 640, Total Reward: -1\n",
      "Episode: 641, Total Reward: 11\n",
      "Episode: 642, Total Reward: 13\n",
      "Episode: 643, Total Reward: 9\n",
      "Episode: 644, Total Reward: 9\n",
      "Episode: 645, Total Reward: 9\n",
      "Episode: 646, Total Reward: 13\n",
      "Episode: 647, Total Reward: 5\n",
      "Episode: 648, Total Reward: 1\n",
      "Episode: 649, Total Reward: 7\n",
      "Episode: 650, Total Reward: 5\n",
      "Episode: 651, Total Reward: 11\n",
      "Episode: 652, Total Reward: 9\n",
      "Episode: 653, Total Reward: 7\n",
      "Episode: 654, Total Reward: 5\n",
      "Episode: 655, Total Reward: 3\n",
      "Episode: 656, Total Reward: 5\n",
      "Episode: 657, Total Reward: 17\n",
      "Episode: 658, Total Reward: 5\n",
      "Episode: 659, Total Reward: 7\n",
      "Episode: 660, Total Reward: 9\n",
      "Episode: 661, Total Reward: 11\n",
      "Episode: 662, Total Reward: 13\n",
      "Episode: 663, Total Reward: 5\n",
      "Episode: 664, Total Reward: 9\n",
      "Episode: 665, Total Reward: 13\n",
      "Episode: 666, Total Reward: 11\n",
      "Episode: 667, Total Reward: 9\n",
      "Episode: 668, Total Reward: 9\n",
      "Episode: 669, Total Reward: 7\n",
      "Episode: 670, Total Reward: 5\n",
      "Episode: 671, Total Reward: 1\n",
      "Episode: 672, Total Reward: 11\n",
      "Episode: 673, Total Reward: 13\n",
      "Episode: 674, Total Reward: 7\n",
      "Episode: 675, Total Reward: 3\n",
      "Episode: 676, Total Reward: 15\n",
      "Episode: 677, Total Reward: 13\n",
      "Episode: 678, Total Reward: 7\n",
      "Episode: 679, Total Reward: 5\n",
      "Episode: 680, Total Reward: 7\n",
      "Episode: 681, Total Reward: 11\n",
      "Episode: 682, Total Reward: 1\n",
      "Episode: 683, Total Reward: 11\n",
      "Episode: 684, Total Reward: 7\n",
      "Episode: 685, Total Reward: 5\n",
      "Episode: 686, Total Reward: 13\n",
      "Episode: 687, Total Reward: 11\n",
      "Episode: 688, Total Reward: 9\n",
      "Episode: 689, Total Reward: 7\n",
      "Episode: 690, Total Reward: 5\n",
      "Episode: 691, Total Reward: 9\n",
      "Episode: 692, Total Reward: -1\n",
      "Episode: 693, Total Reward: 7\n",
      "Episode: 694, Total Reward: 7\n",
      "Episode: 695, Total Reward: 11\n",
      "Episode: 696, Total Reward: 11\n",
      "Episode: 697, Total Reward: 5\n",
      "Episode: 698, Total Reward: 7\n",
      "Episode: 699, Total Reward: 9\n",
      "Episode: 700, Total Reward: 11\n",
      "Episode: 701, Total Reward: 11\n",
      "Episode: 702, Total Reward: 9\n",
      "Episode: 703, Total Reward: 9\n",
      "Episode: 704, Total Reward: 9\n",
      "Episode: 705, Total Reward: 9\n",
      "Episode: 706, Total Reward: 3\n",
      "Episode: 707, Total Reward: 11\n",
      "Episode: 708, Total Reward: 11\n",
      "Episode: 709, Total Reward: 17\n",
      "Episode: 710, Total Reward: 9\n",
      "Episode: 711, Total Reward: 9\n",
      "Episode: 712, Total Reward: 9\n",
      "Episode: 713, Total Reward: 11\n",
      "Episode: 714, Total Reward: 9\n",
      "Episode: 715, Total Reward: 9\n",
      "Episode: 716, Total Reward: 7\n",
      "Episode: 717, Total Reward: 5\n",
      "Episode: 718, Total Reward: 5\n",
      "Episode: 719, Total Reward: 7\n",
      "Episode: 720, Total Reward: 7\n",
      "Episode: 721, Total Reward: 1\n",
      "Episode: 722, Total Reward: 5\n",
      "Episode: 723, Total Reward: 7\n",
      "Episode: 724, Total Reward: 7\n",
      "Episode: 725, Total Reward: 15\n",
      "Episode: 726, Total Reward: 1\n",
      "Episode: 727, Total Reward: 9\n",
      "Episode: 728, Total Reward: 7\n",
      "Episode: 729, Total Reward: 1\n",
      "Episode: 730, Total Reward: 5\n",
      "Episode: 731, Total Reward: 13\n",
      "Episode: 732, Total Reward: 5\n",
      "Episode: 733, Total Reward: 11\n",
      "Episode: 734, Total Reward: 3\n",
      "Episode: 735, Total Reward: 5\n",
      "Episode: 736, Total Reward: 7\n",
      "Episode: 737, Total Reward: 9\n",
      "Episode: 738, Total Reward: 5\n",
      "Episode: 739, Total Reward: 11\n",
      "Episode: 740, Total Reward: 9\n",
      "Episode: 741, Total Reward: 5\n",
      "Episode: 742, Total Reward: 7\n",
      "Episode: 743, Total Reward: 3\n",
      "Episode: 744, Total Reward: 9\n",
      "Episode: 745, Total Reward: 9\n",
      "Episode: 746, Total Reward: 11\n",
      "Episode: 747, Total Reward: 7\n",
      "Episode: 748, Total Reward: 5\n",
      "Episode: 749, Total Reward: 9\n",
      "Episode: 750, Total Reward: 9\n",
      "Episode: 751, Total Reward: 15\n",
      "Episode: 752, Total Reward: 5\n",
      "Episode: 753, Total Reward: 13\n",
      "Episode: 754, Total Reward: 5\n",
      "Episode: 755, Total Reward: -5\n",
      "Episode: 756, Total Reward: -3\n",
      "Episode: 757, Total Reward: 9\n",
      "Episode: 758, Total Reward: 7\n",
      "Episode: 759, Total Reward: 11\n",
      "Episode: 760, Total Reward: 7\n",
      "Episode: 761, Total Reward: 1\n",
      "Episode: 762, Total Reward: 11\n",
      "Episode: 763, Total Reward: 3\n",
      "Episode: 764, Total Reward: 3\n",
      "Episode: 765, Total Reward: 9\n",
      "Episode: 766, Total Reward: 9\n",
      "Episode: 767, Total Reward: 11\n",
      "Episode: 768, Total Reward: -9\n",
      "Episode: 769, Total Reward: 7\n",
      "Episode: 770, Total Reward: 9\n",
      "Episode: 771, Total Reward: 11\n",
      "Episode: 772, Total Reward: -1\n",
      "Episode: 773, Total Reward: 13\n",
      "Episode: 774, Total Reward: 11\n",
      "Episode: 775, Total Reward: 13\n",
      "Episode: 776, Total Reward: 3\n",
      "Episode: 777, Total Reward: 7\n",
      "Episode: 778, Total Reward: 7\n",
      "Episode: 779, Total Reward: 11\n",
      "Episode: 780, Total Reward: -1\n",
      "Episode: 781, Total Reward: 11\n",
      "Episode: 782, Total Reward: 9\n",
      "Episode: 783, Total Reward: 3\n",
      "Episode: 784, Total Reward: 3\n",
      "Episode: 785, Total Reward: -1\n",
      "Episode: 786, Total Reward: 7\n",
      "Episode: 787, Total Reward: 5\n",
      "Episode: 788, Total Reward: 5\n",
      "Episode: 789, Total Reward: 7\n",
      "Episode: 790, Total Reward: 11\n",
      "Episode: 791, Total Reward: 7\n",
      "Episode: 792, Total Reward: 9\n",
      "Episode: 793, Total Reward: 13\n",
      "Episode: 794, Total Reward: 9\n",
      "Episode: 795, Total Reward: 3\n",
      "Episode: 796, Total Reward: 9\n",
      "Episode: 797, Total Reward: 11\n",
      "Episode: 798, Total Reward: 1\n",
      "Episode: 799, Total Reward: 5\n",
      "Episode: 800, Total Reward: 11\n",
      "Episode: 801, Total Reward: 13\n",
      "Episode: 802, Total Reward: 19\n",
      "Episode: 803, Total Reward: 23\n",
      "Episode: 804, Total Reward: 3\n",
      "Episode: 805, Total Reward: 9\n",
      "Episode: 806, Total Reward: 9\n",
      "Episode: 807, Total Reward: 5\n",
      "Episode: 808, Total Reward: 5\n",
      "Episode: 809, Total Reward: 5\n",
      "Episode: 810, Total Reward: 15\n",
      "Episode: 811, Total Reward: 7\n",
      "Episode: 812, Total Reward: 5\n",
      "Episode: 813, Total Reward: 9\n",
      "Episode: 814, Total Reward: 5\n",
      "Episode: 815, Total Reward: 9\n",
      "Episode: 816, Total Reward: 11\n",
      "Episode: 817, Total Reward: 5\n",
      "Episode: 818, Total Reward: 7\n",
      "Episode: 819, Total Reward: 3\n",
      "Episode: 820, Total Reward: 3\n",
      "Episode: 821, Total Reward: 5\n",
      "Episode: 822, Total Reward: 15\n",
      "Episode: 823, Total Reward: 9\n",
      "Episode: 824, Total Reward: 15\n",
      "Episode: 825, Total Reward: 11\n",
      "Episode: 826, Total Reward: 5\n",
      "Episode: 827, Total Reward: 11\n",
      "Episode: 828, Total Reward: 13\n",
      "Episode: 829, Total Reward: 3\n",
      "Episode: 830, Total Reward: 15\n",
      "Episode: 831, Total Reward: 5\n",
      "Episode: 832, Total Reward: 11\n",
      "Episode: 833, Total Reward: 9\n",
      "Episode: 834, Total Reward: 13\n",
      "Episode: 835, Total Reward: 15\n",
      "Episode: 836, Total Reward: 7\n",
      "Episode: 837, Total Reward: 13\n",
      "Episode: 838, Total Reward: 9\n",
      "Episode: 839, Total Reward: 9\n",
      "Episode: 840, Total Reward: 17\n",
      "Episode: 841, Total Reward: 11\n",
      "Episode: 842, Total Reward: 7\n",
      "Episode: 843, Total Reward: 15\n",
      "Episode: 844, Total Reward: 7\n",
      "Episode: 845, Total Reward: 15\n",
      "Episode: 846, Total Reward: 7\n",
      "Episode: 847, Total Reward: 11\n",
      "Episode: 848, Total Reward: 9\n",
      "Episode: 849, Total Reward: 5\n",
      "Episode: 850, Total Reward: 11\n",
      "Episode: 851, Total Reward: -1\n",
      "Episode: 852, Total Reward: 9\n",
      "Episode: 853, Total Reward: -1\n",
      "Episode: 854, Total Reward: 5\n",
      "Episode: 855, Total Reward: 11\n",
      "Episode: 856, Total Reward: 7\n",
      "Episode: 857, Total Reward: 11\n",
      "Episode: 858, Total Reward: 5\n",
      "Episode: 859, Total Reward: 7\n",
      "Episode: 860, Total Reward: 17\n",
      "Episode: 861, Total Reward: 3\n",
      "Episode: 862, Total Reward: 3\n",
      "Episode: 863, Total Reward: 9\n",
      "Episode: 864, Total Reward: 5\n",
      "Episode: 865, Total Reward: 3\n",
      "Episode: 866, Total Reward: 5\n",
      "Episode: 867, Total Reward: 5\n",
      "Episode: 868, Total Reward: -1\n",
      "Episode: 869, Total Reward: 7\n",
      "Episode: 870, Total Reward: 11\n",
      "Episode: 871, Total Reward: 1\n",
      "Episode: 872, Total Reward: 9\n",
      "Episode: 873, Total Reward: 13\n",
      "Episode: 874, Total Reward: 7\n",
      "Episode: 875, Total Reward: 13\n",
      "Episode: 876, Total Reward: 3\n",
      "Episode: 877, Total Reward: 11\n",
      "Episode: 878, Total Reward: 11\n",
      "Episode: 879, Total Reward: 3\n",
      "Episode: 880, Total Reward: 9\n",
      "Episode: 881, Total Reward: 11\n",
      "Episode: 882, Total Reward: 11\n",
      "Episode: 883, Total Reward: 5\n",
      "Episode: 884, Total Reward: 3\n",
      "Episode: 885, Total Reward: 7\n",
      "Episode: 886, Total Reward: 9\n",
      "Episode: 887, Total Reward: 11\n",
      "Episode: 888, Total Reward: 11\n",
      "Episode: 889, Total Reward: 7\n",
      "Episode: 890, Total Reward: 5\n",
      "Episode: 891, Total Reward: 7\n",
      "Episode: 892, Total Reward: 5\n",
      "Episode: 893, Total Reward: 7\n",
      "Episode: 894, Total Reward: 11\n",
      "Episode: 895, Total Reward: 5\n",
      "Episode: 896, Total Reward: 5\n",
      "Episode: 897, Total Reward: 5\n",
      "Episode: 898, Total Reward: 9\n",
      "Episode: 899, Total Reward: 5\n",
      "Episode: 900, Total Reward: 5\n",
      "Episode: 901, Total Reward: 9\n",
      "Episode: 902, Total Reward: 9\n",
      "Episode: 903, Total Reward: 9\n",
      "Episode: 904, Total Reward: 9\n",
      "Episode: 905, Total Reward: 3\n",
      "Episode: 906, Total Reward: 13\n",
      "Episode: 907, Total Reward: 1\n",
      "Episode: 908, Total Reward: 3\n",
      "Episode: 909, Total Reward: 7\n",
      "Episode: 910, Total Reward: 3\n",
      "Episode: 911, Total Reward: 15\n",
      "Episode: 912, Total Reward: 5\n",
      "Episode: 913, Total Reward: 11\n",
      "Episode: 914, Total Reward: 7\n",
      "Episode: 915, Total Reward: 11\n",
      "Episode: 916, Total Reward: 13\n",
      "Episode: 917, Total Reward: 5\n",
      "Episode: 918, Total Reward: 7\n",
      "Episode: 919, Total Reward: 13\n",
      "Episode: 920, Total Reward: 5\n",
      "Episode: 921, Total Reward: 7\n",
      "Episode: 922, Total Reward: 11\n",
      "Episode: 923, Total Reward: 7\n",
      "Episode: 924, Total Reward: 11\n",
      "Episode: 925, Total Reward: 13\n",
      "Episode: 926, Total Reward: 9\n",
      "Episode: 927, Total Reward: 15\n",
      "Episode: 928, Total Reward: 9\n",
      "Episode: 929, Total Reward: 1\n",
      "Episode: 930, Total Reward: 9\n",
      "Episode: 931, Total Reward: 7\n",
      "Episode: 932, Total Reward: 7\n",
      "Episode: 933, Total Reward: -1\n",
      "Episode: 934, Total Reward: 11\n",
      "Episode: 935, Total Reward: 5\n",
      "Episode: 936, Total Reward: 3\n",
      "Episode: 937, Total Reward: 7\n",
      "Episode: 938, Total Reward: 7\n",
      "Episode: 939, Total Reward: 5\n",
      "Episode: 940, Total Reward: 7\n",
      "Episode: 941, Total Reward: 13\n",
      "Episode: 942, Total Reward: 3\n",
      "Episode: 943, Total Reward: 5\n",
      "Episode: 944, Total Reward: 13\n",
      "Episode: 945, Total Reward: 11\n",
      "Episode: 946, Total Reward: 5\n",
      "Episode: 947, Total Reward: 9\n",
      "Episode: 948, Total Reward: 9\n",
      "Episode: 949, Total Reward: 9\n",
      "Episode: 950, Total Reward: 7\n",
      "Episode: 951, Total Reward: 11\n",
      "Episode: 952, Total Reward: 11\n",
      "Episode: 953, Total Reward: 15\n",
      "Episode: 954, Total Reward: 7\n",
      "Episode: 955, Total Reward: 5\n",
      "Episode: 956, Total Reward: 1\n",
      "Episode: 957, Total Reward: 11\n",
      "Episode: 958, Total Reward: 5\n",
      "Episode: 959, Total Reward: 7\n",
      "Episode: 960, Total Reward: 1\n",
      "Episode: 961, Total Reward: 9\n",
      "Episode: 962, Total Reward: 11\n",
      "Episode: 963, Total Reward: 3\n",
      "Episode: 964, Total Reward: 7\n",
      "Episode: 965, Total Reward: 5\n",
      "Episode: 966, Total Reward: 9\n",
      "Episode: 967, Total Reward: 3\n",
      "Episode: 968, Total Reward: 7\n",
      "Episode: 969, Total Reward: 7\n",
      "Episode: 970, Total Reward: 7\n",
      "Episode: 971, Total Reward: 7\n",
      "Episode: 972, Total Reward: 9\n",
      "Episode: 973, Total Reward: 13\n",
      "Episode: 974, Total Reward: 9\n",
      "Episode: 975, Total Reward: 7\n",
      "Episode: 976, Total Reward: 9\n",
      "Episode: 977, Total Reward: 7\n",
      "Episode: 978, Total Reward: 1\n",
      "Episode: 979, Total Reward: 13\n",
      "Episode: 980, Total Reward: 9\n",
      "Episode: 981, Total Reward: 7\n",
      "Episode: 982, Total Reward: 9\n",
      "Episode: 983, Total Reward: 13\n",
      "Episode: 984, Total Reward: 9\n",
      "Episode: 985, Total Reward: 1\n",
      "Episode: 986, Total Reward: 13\n",
      "Episode: 987, Total Reward: 3\n",
      "Episode: 988, Total Reward: 7\n",
      "Episode: 989, Total Reward: 17\n",
      "Episode: 990, Total Reward: 3\n",
      "Episode: 991, Total Reward: 13\n",
      "Episode: 992, Total Reward: 9\n",
      "Episode: 993, Total Reward: 9\n",
      "Episode: 994, Total Reward: 9\n",
      "Episode: 995, Total Reward: 13\n",
      "Episode: 996, Total Reward: 9\n",
      "Episode: 997, Total Reward: 7\n",
      "Episode: 998, Total Reward: 11\n",
      "Episode: 999, Total Reward: 7\n",
      "Episode: 1000, Total Reward: 15\n"
     ]
    }
   ],
   "source": [
    "def train_q_learning(env, episodes=1000, learning_rate=0.01, discount_factor=0.9, num_buckets=20):\n",
    "    action_size = 2  # Red or Green\n",
    "    q_table = np.zeros((num_buckets, action_size))\n",
    "\n",
    "    for e in range(episodes):\n",
    "        state = env.reset()\n",
    "        total_reward = 0\n",
    "        episode_actions = []\n",
    "        episode_rewards = []\n",
    "\n",
    "        while not env.done:\n",
    "            # Exploration vs Exploitation\n",
    "            action = random.choice([0, 1]) if random.uniform(0, 1) < 0.1 else np.argmax(q_table[state[0]])\n",
    "\n",
    "            next_state, reward, done = env.step(action)\n",
    "            total_reward += reward\n",
    "            episode_actions.append(action)\n",
    "            episode_rewards.append(reward)\n",
    "\n",
    "            # Q-Table update\n",
    "            old_value = q_table[state[0], action]\n",
    "            next_max = np.max(q_table[next_state[0]])\n",
    "            new_value = (1 - learning_rate) * old_value + learning_rate * (reward + discount_factor * next_max)\n",
    "            q_table[state[0], action] = new_value\n",
    "\n",
    "            state = next_state\n",
    "\n",
    "        print(f\"Episode: {e+1}, Total Reward: {total_reward}\")\n",
    "\n",
    "    return q_table, episode_actions, episode_rewards\n",
    "\n",
    "q_table, actions, rewards = train_q_learning(env)"
   ]
  },
  {
   "cell_type": "markdown",
   "metadata": {},
   "source": [
    "Step 5: Visualizing the Results"
   ]
  },
  {
   "cell_type": "code",
   "execution_count": 15,
   "metadata": {},
   "outputs": [
    {
     "data": {
      "application/vnd.plotly.v1+json": {
       "config": {
        "plotlyServerURL": "https://plot.ly"
       },
       "data": [
        {
         "mode": "lines",
         "name": "Close Price",
         "type": "scatter",
         "x": [
          0,
          1,
          2,
          3,
          4,
          5,
          6,
          7,
          8,
          9,
          10,
          11,
          12,
          13,
          14,
          15,
          16,
          17,
          18,
          19,
          20,
          21,
          22,
          23,
          24,
          25,
          26,
          27,
          28,
          29,
          30,
          31,
          32,
          33,
          34,
          35,
          36,
          37,
          38,
          39,
          40,
          41,
          42,
          43,
          44,
          45,
          46,
          47,
          48,
          49,
          50,
          51,
          52,
          53,
          54,
          55,
          56,
          57,
          58,
          59,
          60,
          61,
          62,
          63,
          64,
          65,
          66,
          67,
          68,
          69,
          70,
          71,
          72,
          73,
          74,
          75,
          76,
          77,
          78,
          79,
          80,
          81,
          82,
          83,
          84,
          85,
          86,
          87,
          88,
          89,
          90,
          91,
          92,
          93,
          94,
          95,
          96,
          97,
          98,
          99
         ],
         "xaxis": "x",
         "y": [
          37721.71,
          37721.71,
          37714.99,
          37713.03,
          37705.05,
          37705.05,
          37705.06,
          37705.06,
          37699,
          37689.98,
          37698.22,
          37701.09,
          37701.07,
          37686.3,
          37681.71,
          37692.68,
          37692.67,
          37692.67,
          37689.12,
          37685.63,
          37674.64,
          37667.49,
          37666.02,
          37662.82,
          37662.81,
          37655.1,
          37650.86,
          37650.01,
          37660,
          37681.12,
          37692.68,
          37692.67,
          37692.67,
          37709.67,
          37708.92,
          37715,
          37711.08,
          37711.08,
          37711.08,
          37711.08,
          37711.08,
          37708.17,
          37708.65,
          37720,
          37734.98,
          37731.01,
          37725.99,
          37714.1,
          37719.99,
          37729.6,
          37730,
          37728.15,
          37725,
          37729.99,
          37729.23,
          37729.24,
          37723.92,
          37723.92,
          37723.92,
          37715.26,
          37717.21,
          37720.2,
          37720.39,
          37718.32,
          37718.32,
          37718.31,
          37718.31,
          37712.05,
          37712.04,
          37712.04,
          37712.03,
          37712.04,
          37712.04,
          37700.99,
          37693.09,
          37696.88,
          37696.88,
          37697.24,
          37689.4,
          37688.13,
          37695.03,
          37695.02,
          37695.03,
          37688.13,
          37684.34,
          37684.33,
          37684.34,
          37684.33,
          37684.34,
          37684.32,
          37684.32,
          37684.32,
          37704.21,
          37709.34,
          37709.34,
          37718.3,
          37718.37,
          37717.63,
          37709.35,
          37709.35
         ],
         "yaxis": "y"
        },
        {
         "line": {
          "dash": "dot",
          "width": 2
         },
         "mode": "lines",
         "name": "Actions",
         "type": "scatter",
         "x": [
          0,
          1,
          2,
          3,
          4,
          5,
          6,
          7,
          8,
          9,
          10,
          11,
          12,
          13,
          14,
          15,
          16,
          17,
          18,
          19,
          20,
          21,
          22,
          23,
          24,
          25,
          26,
          27,
          28,
          29,
          30,
          31,
          32,
          33,
          34,
          35,
          36,
          37,
          38,
          39,
          40,
          41,
          42,
          43,
          44,
          45,
          46,
          47,
          48,
          49,
          50,
          51,
          52,
          53,
          54,
          55,
          56,
          57,
          58,
          59,
          60,
          61,
          62,
          63,
          64,
          65,
          66,
          67,
          68,
          69,
          70,
          71,
          72,
          73,
          74,
          75,
          76,
          77,
          78,
          79,
          80,
          81,
          82,
          83,
          84,
          85,
          86,
          87,
          88,
          89,
          90,
          91,
          92,
          93,
          94,
          95,
          96,
          97,
          98,
          99
         ],
         "xaxis": "x2",
         "y": [
          0,
          0,
          1,
          0,
          0,
          0,
          0,
          0,
          0,
          0,
          0,
          0,
          0,
          0,
          1,
          0,
          0,
          0,
          0,
          0,
          0,
          0,
          0,
          0,
          0,
          0,
          0,
          0,
          1,
          1,
          0,
          0,
          0,
          0,
          1,
          1,
          0,
          0,
          0,
          0,
          0,
          1,
          1,
          0,
          0,
          0,
          0,
          1,
          0,
          1,
          0,
          0,
          0,
          0,
          0,
          0,
          0,
          0,
          0,
          1,
          1,
          0,
          0,
          0,
          0,
          0,
          0,
          0,
          0,
          0,
          0,
          0,
          0,
          0,
          0,
          0,
          1,
          0,
          0,
          0,
          0,
          0,
          0,
          0,
          0,
          0,
          0,
          0,
          0,
          0,
          0,
          0,
          0,
          1,
          1,
          0,
          0,
          1,
          1
         ],
         "yaxis": "y2"
        },
        {
         "line": {
          "dash": "dot",
          "width": 2
         },
         "mode": "lines",
         "name": "Rewards",
         "type": "scatter",
         "x": [
          0,
          1,
          2,
          3,
          4,
          5,
          6,
          7,
          8,
          9,
          10,
          11,
          12,
          13,
          14,
          15,
          16,
          17,
          18,
          19,
          20,
          21,
          22,
          23,
          24,
          25,
          26,
          27,
          28,
          29,
          30,
          31,
          32,
          33,
          34,
          35,
          36,
          37,
          38,
          39,
          40,
          41,
          42,
          43,
          44,
          45,
          46,
          47,
          48,
          49,
          50,
          51,
          52,
          53,
          54,
          55,
          56,
          57,
          58,
          59,
          60,
          61,
          62,
          63,
          64,
          65,
          66,
          67,
          68,
          69,
          70,
          71,
          72,
          73,
          74,
          75,
          76,
          77,
          78,
          79,
          80,
          81,
          82,
          83,
          84,
          85,
          86,
          87,
          88,
          89,
          90,
          91,
          92,
          93,
          94,
          95,
          96,
          97,
          98,
          99
         ],
         "xaxis": "x2",
         "y": [
          -1,
          1,
          -1,
          1,
          -1,
          -1,
          -1,
          1,
          1,
          -1,
          -1,
          1,
          1,
          1,
          1,
          1,
          -1,
          1,
          1,
          1,
          1,
          1,
          1,
          1,
          1,
          1,
          1,
          -1,
          1,
          1,
          1,
          -1,
          -1,
          1,
          1,
          -1,
          -1,
          -1,
          -1,
          -1,
          1,
          1,
          1,
          -1,
          1,
          1,
          1,
          1,
          -1,
          1,
          1,
          1,
          -1,
          1,
          -1,
          1,
          -1,
          -1,
          1,
          1,
          1,
          -1,
          1,
          -1,
          1,
          -1,
          1,
          1,
          -1,
          1,
          -1,
          -1,
          1,
          1,
          -1,
          -1,
          1,
          1,
          1,
          -1,
          1,
          -1,
          1,
          1,
          1,
          -1,
          1,
          -1,
          1,
          -1,
          -1,
          -1,
          -1,
          -1,
          1,
          -1,
          1,
          -1,
          -1
         ],
         "yaxis": "y2"
        }
       ],
       "layout": {
        "autosize": true,
        "height": 800,
        "template": {
         "data": {
          "bar": [
           {
            "error_x": {
             "color": "#f2f5fa"
            },
            "error_y": {
             "color": "#f2f5fa"
            },
            "marker": {
             "line": {
              "color": "rgb(17,17,17)",
              "width": 0.5
             },
             "pattern": {
              "fillmode": "overlay",
              "size": 10,
              "solidity": 0.2
             }
            },
            "type": "bar"
           }
          ],
          "barpolar": [
           {
            "marker": {
             "line": {
              "color": "rgb(17,17,17)",
              "width": 0.5
             },
             "pattern": {
              "fillmode": "overlay",
              "size": 10,
              "solidity": 0.2
             }
            },
            "type": "barpolar"
           }
          ],
          "carpet": [
           {
            "aaxis": {
             "endlinecolor": "#A2B1C6",
             "gridcolor": "#506784",
             "linecolor": "#506784",
             "minorgridcolor": "#506784",
             "startlinecolor": "#A2B1C6"
            },
            "baxis": {
             "endlinecolor": "#A2B1C6",
             "gridcolor": "#506784",
             "linecolor": "#506784",
             "minorgridcolor": "#506784",
             "startlinecolor": "#A2B1C6"
            },
            "type": "carpet"
           }
          ],
          "choropleth": [
           {
            "colorbar": {
             "outlinewidth": 0,
             "ticks": ""
            },
            "type": "choropleth"
           }
          ],
          "contour": [
           {
            "colorbar": {
             "outlinewidth": 0,
             "ticks": ""
            },
            "colorscale": [
             [
              0,
              "#0d0887"
             ],
             [
              0.1111111111111111,
              "#46039f"
             ],
             [
              0.2222222222222222,
              "#7201a8"
             ],
             [
              0.3333333333333333,
              "#9c179e"
             ],
             [
              0.4444444444444444,
              "#bd3786"
             ],
             [
              0.5555555555555556,
              "#d8576b"
             ],
             [
              0.6666666666666666,
              "#ed7953"
             ],
             [
              0.7777777777777778,
              "#fb9f3a"
             ],
             [
              0.8888888888888888,
              "#fdca26"
             ],
             [
              1,
              "#f0f921"
             ]
            ],
            "type": "contour"
           }
          ],
          "contourcarpet": [
           {
            "colorbar": {
             "outlinewidth": 0,
             "ticks": ""
            },
            "type": "contourcarpet"
           }
          ],
          "heatmap": [
           {
            "colorbar": {
             "outlinewidth": 0,
             "ticks": ""
            },
            "colorscale": [
             [
              0,
              "#0d0887"
             ],
             [
              0.1111111111111111,
              "#46039f"
             ],
             [
              0.2222222222222222,
              "#7201a8"
             ],
             [
              0.3333333333333333,
              "#9c179e"
             ],
             [
              0.4444444444444444,
              "#bd3786"
             ],
             [
              0.5555555555555556,
              "#d8576b"
             ],
             [
              0.6666666666666666,
              "#ed7953"
             ],
             [
              0.7777777777777778,
              "#fb9f3a"
             ],
             [
              0.8888888888888888,
              "#fdca26"
             ],
             [
              1,
              "#f0f921"
             ]
            ],
            "type": "heatmap"
           }
          ],
          "heatmapgl": [
           {
            "colorbar": {
             "outlinewidth": 0,
             "ticks": ""
            },
            "colorscale": [
             [
              0,
              "#0d0887"
             ],
             [
              0.1111111111111111,
              "#46039f"
             ],
             [
              0.2222222222222222,
              "#7201a8"
             ],
             [
              0.3333333333333333,
              "#9c179e"
             ],
             [
              0.4444444444444444,
              "#bd3786"
             ],
             [
              0.5555555555555556,
              "#d8576b"
             ],
             [
              0.6666666666666666,
              "#ed7953"
             ],
             [
              0.7777777777777778,
              "#fb9f3a"
             ],
             [
              0.8888888888888888,
              "#fdca26"
             ],
             [
              1,
              "#f0f921"
             ]
            ],
            "type": "heatmapgl"
           }
          ],
          "histogram": [
           {
            "marker": {
             "pattern": {
              "fillmode": "overlay",
              "size": 10,
              "solidity": 0.2
             }
            },
            "type": "histogram"
           }
          ],
          "histogram2d": [
           {
            "colorbar": {
             "outlinewidth": 0,
             "ticks": ""
            },
            "colorscale": [
             [
              0,
              "#0d0887"
             ],
             [
              0.1111111111111111,
              "#46039f"
             ],
             [
              0.2222222222222222,
              "#7201a8"
             ],
             [
              0.3333333333333333,
              "#9c179e"
             ],
             [
              0.4444444444444444,
              "#bd3786"
             ],
             [
              0.5555555555555556,
              "#d8576b"
             ],
             [
              0.6666666666666666,
              "#ed7953"
             ],
             [
              0.7777777777777778,
              "#fb9f3a"
             ],
             [
              0.8888888888888888,
              "#fdca26"
             ],
             [
              1,
              "#f0f921"
             ]
            ],
            "type": "histogram2d"
           }
          ],
          "histogram2dcontour": [
           {
            "colorbar": {
             "outlinewidth": 0,
             "ticks": ""
            },
            "colorscale": [
             [
              0,
              "#0d0887"
             ],
             [
              0.1111111111111111,
              "#46039f"
             ],
             [
              0.2222222222222222,
              "#7201a8"
             ],
             [
              0.3333333333333333,
              "#9c179e"
             ],
             [
              0.4444444444444444,
              "#bd3786"
             ],
             [
              0.5555555555555556,
              "#d8576b"
             ],
             [
              0.6666666666666666,
              "#ed7953"
             ],
             [
              0.7777777777777778,
              "#fb9f3a"
             ],
             [
              0.8888888888888888,
              "#fdca26"
             ],
             [
              1,
              "#f0f921"
             ]
            ],
            "type": "histogram2dcontour"
           }
          ],
          "mesh3d": [
           {
            "colorbar": {
             "outlinewidth": 0,
             "ticks": ""
            },
            "type": "mesh3d"
           }
          ],
          "parcoords": [
           {
            "line": {
             "colorbar": {
              "outlinewidth": 0,
              "ticks": ""
             }
            },
            "type": "parcoords"
           }
          ],
          "pie": [
           {
            "automargin": true,
            "type": "pie"
           }
          ],
          "scatter": [
           {
            "marker": {
             "line": {
              "color": "#283442"
             }
            },
            "type": "scatter"
           }
          ],
          "scatter3d": [
           {
            "line": {
             "colorbar": {
              "outlinewidth": 0,
              "ticks": ""
             }
            },
            "marker": {
             "colorbar": {
              "outlinewidth": 0,
              "ticks": ""
             }
            },
            "type": "scatter3d"
           }
          ],
          "scattercarpet": [
           {
            "marker": {
             "colorbar": {
              "outlinewidth": 0,
              "ticks": ""
             }
            },
            "type": "scattercarpet"
           }
          ],
          "scattergeo": [
           {
            "marker": {
             "colorbar": {
              "outlinewidth": 0,
              "ticks": ""
             }
            },
            "type": "scattergeo"
           }
          ],
          "scattergl": [
           {
            "marker": {
             "line": {
              "color": "#283442"
             }
            },
            "type": "scattergl"
           }
          ],
          "scattermapbox": [
           {
            "marker": {
             "colorbar": {
              "outlinewidth": 0,
              "ticks": ""
             }
            },
            "type": "scattermapbox"
           }
          ],
          "scatterpolar": [
           {
            "marker": {
             "colorbar": {
              "outlinewidth": 0,
              "ticks": ""
             }
            },
            "type": "scatterpolar"
           }
          ],
          "scatterpolargl": [
           {
            "marker": {
             "colorbar": {
              "outlinewidth": 0,
              "ticks": ""
             }
            },
            "type": "scatterpolargl"
           }
          ],
          "scatterternary": [
           {
            "marker": {
             "colorbar": {
              "outlinewidth": 0,
              "ticks": ""
             }
            },
            "type": "scatterternary"
           }
          ],
          "surface": [
           {
            "colorbar": {
             "outlinewidth": 0,
             "ticks": ""
            },
            "colorscale": [
             [
              0,
              "#0d0887"
             ],
             [
              0.1111111111111111,
              "#46039f"
             ],
             [
              0.2222222222222222,
              "#7201a8"
             ],
             [
              0.3333333333333333,
              "#9c179e"
             ],
             [
              0.4444444444444444,
              "#bd3786"
             ],
             [
              0.5555555555555556,
              "#d8576b"
             ],
             [
              0.6666666666666666,
              "#ed7953"
             ],
             [
              0.7777777777777778,
              "#fb9f3a"
             ],
             [
              0.8888888888888888,
              "#fdca26"
             ],
             [
              1,
              "#f0f921"
             ]
            ],
            "type": "surface"
           }
          ],
          "table": [
           {
            "cells": {
             "fill": {
              "color": "#506784"
             },
             "line": {
              "color": "rgb(17,17,17)"
             }
            },
            "header": {
             "fill": {
              "color": "#2a3f5f"
             },
             "line": {
              "color": "rgb(17,17,17)"
             }
            },
            "type": "table"
           }
          ]
         },
         "layout": {
          "annotationdefaults": {
           "arrowcolor": "#f2f5fa",
           "arrowhead": 0,
           "arrowwidth": 1
          },
          "autotypenumbers": "strict",
          "coloraxis": {
           "colorbar": {
            "outlinewidth": 0,
            "ticks": ""
           }
          },
          "colorscale": {
           "diverging": [
            [
             0,
             "#8e0152"
            ],
            [
             0.1,
             "#c51b7d"
            ],
            [
             0.2,
             "#de77ae"
            ],
            [
             0.3,
             "#f1b6da"
            ],
            [
             0.4,
             "#fde0ef"
            ],
            [
             0.5,
             "#f7f7f7"
            ],
            [
             0.6,
             "#e6f5d0"
            ],
            [
             0.7,
             "#b8e186"
            ],
            [
             0.8,
             "#7fbc41"
            ],
            [
             0.9,
             "#4d9221"
            ],
            [
             1,
             "#276419"
            ]
           ],
           "sequential": [
            [
             0,
             "#0d0887"
            ],
            [
             0.1111111111111111,
             "#46039f"
            ],
            [
             0.2222222222222222,
             "#7201a8"
            ],
            [
             0.3333333333333333,
             "#9c179e"
            ],
            [
             0.4444444444444444,
             "#bd3786"
            ],
            [
             0.5555555555555556,
             "#d8576b"
            ],
            [
             0.6666666666666666,
             "#ed7953"
            ],
            [
             0.7777777777777778,
             "#fb9f3a"
            ],
            [
             0.8888888888888888,
             "#fdca26"
            ],
            [
             1,
             "#f0f921"
            ]
           ],
           "sequentialminus": [
            [
             0,
             "#0d0887"
            ],
            [
             0.1111111111111111,
             "#46039f"
            ],
            [
             0.2222222222222222,
             "#7201a8"
            ],
            [
             0.3333333333333333,
             "#9c179e"
            ],
            [
             0.4444444444444444,
             "#bd3786"
            ],
            [
             0.5555555555555556,
             "#d8576b"
            ],
            [
             0.6666666666666666,
             "#ed7953"
            ],
            [
             0.7777777777777778,
             "#fb9f3a"
            ],
            [
             0.8888888888888888,
             "#fdca26"
            ],
            [
             1,
             "#f0f921"
            ]
           ]
          },
          "colorway": [
           "#636efa",
           "#EF553B",
           "#00cc96",
           "#ab63fa",
           "#FFA15A",
           "#19d3f3",
           "#FF6692",
           "#B6E880",
           "#FF97FF",
           "#FECB52"
          ],
          "font": {
           "color": "#f2f5fa"
          },
          "geo": {
           "bgcolor": "rgb(17,17,17)",
           "lakecolor": "rgb(17,17,17)",
           "landcolor": "rgb(17,17,17)",
           "showlakes": true,
           "showland": true,
           "subunitcolor": "#506784"
          },
          "hoverlabel": {
           "align": "left"
          },
          "hovermode": "closest",
          "mapbox": {
           "style": "dark"
          },
          "paper_bgcolor": "rgb(17,17,17)",
          "plot_bgcolor": "rgb(17,17,17)",
          "polar": {
           "angularaxis": {
            "gridcolor": "#506784",
            "linecolor": "#506784",
            "ticks": ""
           },
           "bgcolor": "rgb(17,17,17)",
           "radialaxis": {
            "gridcolor": "#506784",
            "linecolor": "#506784",
            "ticks": ""
           }
          },
          "scene": {
           "xaxis": {
            "backgroundcolor": "rgb(17,17,17)",
            "gridcolor": "#506784",
            "gridwidth": 2,
            "linecolor": "#506784",
            "showbackground": true,
            "ticks": "",
            "zerolinecolor": "#C8D4E3"
           },
           "yaxis": {
            "backgroundcolor": "rgb(17,17,17)",
            "gridcolor": "#506784",
            "gridwidth": 2,
            "linecolor": "#506784",
            "showbackground": true,
            "ticks": "",
            "zerolinecolor": "#C8D4E3"
           },
           "zaxis": {
            "backgroundcolor": "rgb(17,17,17)",
            "gridcolor": "#506784",
            "gridwidth": 2,
            "linecolor": "#506784",
            "showbackground": true,
            "ticks": "",
            "zerolinecolor": "#C8D4E3"
           }
          },
          "shapedefaults": {
           "line": {
            "color": "#f2f5fa"
           }
          },
          "sliderdefaults": {
           "bgcolor": "#C8D4E3",
           "bordercolor": "rgb(17,17,17)",
           "borderwidth": 1,
           "tickwidth": 0
          },
          "ternary": {
           "aaxis": {
            "gridcolor": "#506784",
            "linecolor": "#506784",
            "ticks": ""
           },
           "baxis": {
            "gridcolor": "#506784",
            "linecolor": "#506784",
            "ticks": ""
           },
           "bgcolor": "rgb(17,17,17)",
           "caxis": {
            "gridcolor": "#506784",
            "linecolor": "#506784",
            "ticks": ""
           }
          },
          "title": {
           "x": 0.05
          },
          "updatemenudefaults": {
           "bgcolor": "#506784",
           "borderwidth": 0
          },
          "xaxis": {
           "automargin": true,
           "gridcolor": "#283442",
           "linecolor": "#506784",
           "ticks": "",
           "title": {
            "standoff": 15
           },
           "zerolinecolor": "#283442",
           "zerolinewidth": 2
          },
          "yaxis": {
           "automargin": true,
           "gridcolor": "#283442",
           "linecolor": "#506784",
           "ticks": "",
           "title": {
            "standoff": 15
           },
           "zerolinecolor": "#283442",
           "zerolinewidth": 2
          }
         }
        },
        "title": {
         "text": "Price Data, Actions, and Rewards"
        },
        "xaxis": {
         "anchor": "y",
         "domain": [
          0,
          1
         ]
        },
        "xaxis2": {
         "anchor": "y2",
         "domain": [
          0,
          1
         ]
        },
        "yaxis": {
         "anchor": "x",
         "domain": [
          0.575,
          1
         ],
         "title": {
          "text": "Close Price"
         }
        },
        "yaxis2": {
         "anchor": "x2",
         "domain": [
          0,
          0.425
         ],
         "title": {
          "text": "Actions / Rewards"
         }
        }
       }
      }
     },
     "metadata": {},
     "output_type": "display_data"
    }
   ],
   "source": [
    "import plotly.graph_objects as go\n",
    "from plotly.subplots import make_subplots\n",
    "\n",
    "def plot_results(data, actions, rewards):\n",
    "    # Create a subplot\n",
    "    fig = make_subplots(rows=2, cols=1)\n",
    "\n",
    "    # Plotting price data\n",
    "    fig.add_trace(\n",
    "        go.Scatter(x=data.index, y=data['close'], mode='lines', name='Close Price'),\n",
    "        row=1, col=1\n",
    "    )\n",
    "\n",
    "    # Plotting actions\n",
    "    fig.add_trace(\n",
    "        go.Scatter(x=data.index, y=actions, mode='lines', name='Actions', line=dict(width=2, dash='dot')),\n",
    "        row=2, col=1\n",
    "    )\n",
    "\n",
    "    # Plotting rewards\n",
    "    fig.add_trace(\n",
    "        go.Scatter(x=data.index, y=rewards, mode='lines', name='Rewards', line=dict(width=2, dash='dot')),\n",
    "        row=2, col=1\n",
    "    )\n",
    "\n",
    "    # Update layout\n",
    "    fig.update_layout(\n",
    "        height=800, width=None, title_text=\"Price Data, Actions, and Rewards\",\n",
    "        template=\"plotly_dark\",\n",
    "        autosize=True\n",
    "    )\n",
    "    fig.update_yaxes(title_text=\"Close Price\", row=1, col=1)\n",
    "    fig.update_yaxes(title_text=\"Actions / Rewards\", row=2, col=1)\n",
    "\n",
    "    fig.show()\n",
    "\n",
    "# Example usage\n",
    "plot_results(df, actions, rewards)\n"
   ]
  }
 ],
 "metadata": {
  "kernelspec": {
   "display_name": "venv",
   "language": "python",
   "name": "python3"
  },
  "language_info": {
   "codemirror_mode": {
    "name": "ipython",
    "version": 3
   },
   "file_extension": ".py",
   "mimetype": "text/x-python",
   "name": "python",
   "nbconvert_exporter": "python",
   "pygments_lexer": "ipython3",
   "version": "3.11.6"
  }
 },
 "nbformat": 4,
 "nbformat_minor": 2
}
