{
 "cells": [
  {
   "cell_type": "markdown",
   "metadata": {},
   "source": [
    "Data Collection with CCXT"
   ]
  },
  {
   "cell_type": "code",
   "execution_count": null,
   "metadata": {},
   "outputs": [],
   "source": [
    "import ccxt\n",
    "import pandas as pd\n",
    "\n",
    "import warnings\n",
    "warnings.simplefilter(\"ignore\", category=FutureWarning)\n",
    "\n",
    "# Initialize the exchange\n",
    "exchange = ccxt.binance()\n",
    "\n",
    "symbol = 'BTC/USDT'\n",
    "timeframe = '1d'\n",
    "since = exchange.parse8601('2021-01-01T00:00:00Z')\n",
    "now = exchange.milliseconds()\n",
    "\n",
    "all_candles = []\n",
    "\n",
    "while since < now:\n",
    "    candles = exchange.fetch_ohlcv(symbol, timeframe, since)\n",
    "    if len(candles) == 0:\n",
    "        break\n",
    "    since = candles[-1][0] + 1  # start the next fetch from the end of the last one\n",
    "    all_candles += candles\n",
    "\n",
    "# Convert to DataFrame\n",
    "df = pd.DataFrame(all_candles, columns=['timestamp', 'open', 'high', 'low', 'close', 'volume'])\n",
    "df['date'] = pd.to_datetime(df['timestamp'], unit='ms')\n",
    "\n",
    "# Create a copy with the closing price for forecasting\n",
    "data = df[['date', 'close', 'volume']].copy()\n",
    "data.rename(columns={'date': 'ds', 'close': 'y', 'volume': 'volume'}, inplace=True)\n",
    "\n",
    "print(data.head())\n"
   ]
  },
  {
   "cell_type": "markdown",
   "metadata": {},
   "source": [
    "Plot the historical Bitcoin prices"
   ]
  },
  {
   "cell_type": "code",
   "execution_count": null,
   "metadata": {},
   "outputs": [],
   "source": [
    "import matplotlib.pyplot as plt\n",
    "\n",
    "plt.figure(figsize=(12, 6))\n",
    "plt.plot(data['ds'], data['y'])\n",
    "plt.title('Historical Bitcoin Price from Binance')\n",
    "plt.xlabel('Date')\n",
    "plt.ylabel('Price (in USDT)')\n",
    "plt.grid(True)\n",
    "plt.show()"
   ]
  },
  {
   "cell_type": "markdown",
   "metadata": {},
   "source": [
    "Add additional regressors/features & Clean Data"
   ]
  },
  {
   "cell_type": "code",
   "execution_count": null,
   "metadata": {},
   "outputs": [],
   "source": [
    "import talib\n",
    "\n",
    "data['rsi'] = talib.RSI(data['y'].values, timeperiod=16)\n",
    "data.dropna(subset=['rsi'], inplace=True)\n",
    "\n",
    "data['obv'] = talib.OBV(data['y'].values, data['volume'].values)\n",
    "data.dropna(subset=['obv'], inplace=True)"
   ]
  },
  {
   "cell_type": "markdown",
   "metadata": {},
   "source": [
    "Fit and Train the Prophet model with features/regressors"
   ]
  },
  {
   "cell_type": "code",
   "execution_count": null,
   "metadata": {},
   "outputs": [],
   "source": [
    "from prophet import Prophet\n",
    "\n",
    "# Initialize the Prophet model\n",
    "model = Prophet()\n",
    "\n",
    "# Add RSI as a regressor\n",
    "model.add_regressor('rsi')\n",
    "\n",
    "# Add OBV as a regressor\n",
    "model.add_regressor('obv')\n",
    "\n",
    "# Train the model with the data\n",
    "model.fit(data)"
   ]
  },
  {
   "cell_type": "markdown",
   "metadata": {},
   "source": [
    "Predict the price for the next day"
   ]
  },
  {
   "cell_type": "code",
   "execution_count": null,
   "metadata": {},
   "outputs": [],
   "source": [
    "# Predict Bitcoin price for the next day\n",
    "future_day = model.make_future_dataframe(periods=1, freq='D', include_history=False)\n",
    "\n",
    "# Use the most recent RSI and OBV values for future predictions\n",
    "last_rsi_value = data['rsi'].iloc[-1]\n",
    "last_obv_value = data['obv'].iloc[-1]\n",
    "\n",
    "future_day['rsi'] = last_rsi_value\n",
    "future_day['obv'] = last_obv_value\n",
    "\n",
    "forecast_day = model.predict(future_day)\n",
    "next_day_price = forecast_day['yhat'].values[0]\n",
    "print(f\"Predicted Bitcoin price for the next day: ${next_day_price:.2f}\")"
   ]
  },
  {
   "cell_type": "markdown",
   "metadata": {},
   "source": [
    "Create future date data for which we want to predict the Bitcoin prices and then generate forecasts. Also demonstrate Forecasting with the Regressor/Feature"
   ]
  },
  {
   "cell_type": "code",
   "execution_count": null,
   "metadata": {},
   "outputs": [],
   "source": [
    "# Create future dates for prediction (e.g., for the next 365 days)\n",
    "future = model.make_future_dataframe(periods=365)\n",
    "\n",
    "# Use the most recent RSI and OBV values for future predictions\n",
    "last_rsi_value = data['rsi'].iloc[-1]\n",
    "last_obv_value = data['obv'].iloc[-1]\n",
    "\n",
    "future['rsi'] = last_rsi_value\n",
    "future['obv'] = last_obv_value\n",
    "\n",
    "# Generate forecasts\n",
    "forecast = model.predict(future)"
   ]
  },
  {
   "cell_type": "markdown",
   "metadata": {},
   "source": [
    "Visualize the predicted prices"
   ]
  },
  {
   "cell_type": "code",
   "execution_count": null,
   "metadata": {},
   "outputs": [],
   "source": [
    "fig1 = model.plot(forecast)"
   ]
  },
  {
   "cell_type": "markdown",
   "metadata": {},
   "source": [
    " Break down the forecast into its various components"
   ]
  },
  {
   "cell_type": "code",
   "execution_count": null,
   "metadata": {},
   "outputs": [],
   "source": [
    "fig2 = model.plot_components(forecast)"
   ]
  },
  {
   "cell_type": "markdown",
   "metadata": {},
   "source": [
    "Setup & Perform Cross-Validation"
   ]
  },
  {
   "cell_type": "code",
   "execution_count": null,
   "metadata": {},
   "outputs": [],
   "source": [
    "from prophet.diagnostics import cross_validation\n",
    "\n",
    "# Here's an example setup:\n",
    "# Initial training period = 730 days (2 years)\n",
    "# Horizon = 90 days\n",
    "# Period = 30 days (i.e., make a forecast every 30 days)\n",
    "\n",
    "df_cv = cross_validation(model, initial='730 days', period='30 days', horizon='90 days')\n"
   ]
  },
  {
   "cell_type": "markdown",
   "metadata": {},
   "source": [
    "Compute Performance Metrics"
   ]
  },
  {
   "cell_type": "code",
   "execution_count": null,
   "metadata": {},
   "outputs": [],
   "source": [
    "from prophet.diagnostics import performance_metrics\n",
    "\n",
    "df_p = performance_metrics(df_cv)\n",
    "print(df_p.head())"
   ]
  },
  {
   "cell_type": "markdown",
   "metadata": {},
   "source": [
    "Visualizing Performance"
   ]
  },
  {
   "cell_type": "code",
   "execution_count": null,
   "metadata": {},
   "outputs": [],
   "source": [
    "from prophet.plot import plot_cross_validation_metric\n",
    "\n",
    "fig = plot_cross_validation_metric(df_cv, metric='mape')"
   ]
  },
  {
   "cell_type": "markdown",
   "metadata": {},
   "source": [
    "Compute the percentage accuracy from MAPE"
   ]
  },
  {
   "cell_type": "code",
   "execution_count": null,
   "metadata": {},
   "outputs": [],
   "source": [
    "# Assuming df_p is the result from the performance_metrics function\n",
    "mape = df_p['mape'].mean()\n",
    "accuracy = 100 - (mape * 100)\n",
    "print(f\"Forecast Accuracy: {accuracy:.2f}%\")"
   ]
  }
 ],
 "metadata": {
  "kernelspec": {
   "display_name": ".venv",
   "language": "python",
   "name": "python3"
  },
  "language_info": {
   "codemirror_mode": {
    "name": "ipython",
    "version": 3
   },
   "file_extension": ".py",
   "mimetype": "text/x-python",
   "name": "python",
   "nbconvert_exporter": "python",
   "pygments_lexer": "ipython3",
   "version": "3.10.10"
  }
 },
 "nbformat": 4,
 "nbformat_minor": 2
}
