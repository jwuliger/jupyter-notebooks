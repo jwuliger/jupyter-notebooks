{
 "cells": [
  {
   "cell_type": "markdown",
   "metadata": {},
   "source": [
    "Data Collection with CCXT"
   ]
  },
  {
   "cell_type": "code",
   "execution_count": null,
   "metadata": {},
   "outputs": [],
   "source": [
    "import ccxt\n",
    "import pandas as pd\n",
    "\n",
    "import warnings\n",
    "warnings.simplefilter(\"ignore\", category=FutureWarning)\n",
    "\n",
    "# Initialize the exchange\n",
    "exchange = ccxt.binance()\n",
    "\n",
    "symbol = 'BTC/USDT'\n",
    "timeframe = '1h'\n",
    "since = exchange.parse8601('2021-01-01T00:00:00Z')\n",
    "now = exchange.milliseconds()\n",
    "\n",
    "all_candles = []\n",
    "\n",
    "while since < now:\n",
    "    candles = exchange.fetch_ohlcv(symbol, timeframe, since)\n",
    "    if len(candles) == 0:\n",
    "        break\n",
    "    since = candles[-1][0] + 1  # start the next fetch from the end of the last one\n",
    "    all_candles += candles\n",
    "\n",
    "# Convert to DataFrame\n",
    "df = pd.DataFrame(all_candles, columns=['timestamp', 'open', 'high', 'low', 'close', 'volume'])\n",
    "df['date'] = pd.to_datetime(df['timestamp'], unit='ms')\n",
    "\n",
    "# Create a copy with the closing price for forecasting\n",
    "data = df[['date', 'close', 'volume', 'high', 'low']].copy()\n",
    "data.rename(columns={'date': 'ds', 'close': 'y', 'volume': 'volume', 'high': 'high', 'low': 'low'}, inplace=True)\n",
    "\n",
    "print(data.head())\n",
    "# print(data.describe())\n"
   ]
  },
  {
   "cell_type": "markdown",
   "metadata": {},
   "source": [
    "Hyperparameter tuning for Prophet model using Grid Search"
   ]
  },
  {
   "cell_type": "code",
   "execution_count": null,
   "metadata": {},
   "outputs": [],
   "source": [
    "from prophet import Prophet\n",
    "from sklearn.metrics import mean_squared_error\n",
    "import itertools\n",
    "import numpy as np\n",
    "\n",
    "# Define parameter grid\n",
    "param_grid = {\n",
    "    'seasonality_mode': ['additive', 'multiplicative'],\n",
    "    'changepoint_prior_scale': [0.01, 0.05, 0.1, 0.5],\n",
    "    'yearly_seasonality': [True, False],\n",
    "    'weekly_seasonality': [True, False],\n",
    "    'daily_seasonality': [True, False]\n",
    "}\n",
    "\n",
    "# Generate all combinations of parameters\n",
    "all_params = [dict(zip(param_grid.keys(), v)) for v in itertools.product(*param_grid.values())]\n",
    "\n",
    "# Placeholder for best params and RMSE\n",
    "best_params = {}\n",
    "lowest_rmse = float('inf')\n",
    "\n",
    "# Function to train and evaluate a model\n",
    "def train_evaluate_model(params, data):\n",
    "    model = Prophet(**params)\n",
    "    model.fit(data)\n",
    "    future = model.make_future_dataframe(periods=365)\n",
    "    forecast = model.predict(future)\n",
    "    rmse = np.sqrt(mean_squared_error(data['y'], forecast[:len(data)]['yhat']))\n",
    "    return rmse\n",
    "\n",
    "# Grid search loop\n",
    "for params in all_params:\n",
    "    rmse = train_evaluate_model(params, data)\n",
    "    if rmse < lowest_rmse:\n",
    "        best_params = params\n",
    "        lowest_rmse = rmse\n",
    "\n",
    "print(f\"Best parameters: {best_params}\")\n",
    "print(f\"Lowest RMSE: {lowest_rmse}\")"
   ]
  },
  {
   "cell_type": "markdown",
   "metadata": {},
   "source": [
    "Plot the historical Bitcoin prices"
   ]
  },
  {
   "cell_type": "code",
   "execution_count": null,
   "metadata": {},
   "outputs": [],
   "source": [
    "import matplotlib.pyplot as plt\n",
    "\n",
    "plt.figure(figsize=(12, 6))\n",
    "plt.plot(data['ds'], data['y'])\n",
    "plt.title('Historical Bitcoin Price from Binance')\n",
    "plt.xlabel('Date')\n",
    "plt.ylabel('Price (in USDT)')\n",
    "plt.grid(True)\n",
    "plt.show()"
   ]
  },
  {
   "cell_type": "markdown",
   "metadata": {},
   "source": [
    "Add additional regressors/features & Clean Data"
   ]
  },
  {
   "cell_type": "code",
   "execution_count": null,
   "metadata": {},
   "outputs": [],
   "source": [
    "import talib\n",
    "\n",
    "# Adding short term moving averages\n",
    "data['ma5'] = data['y'].rolling(window=5).mean()\n",
    "data['ma10'] = data['y'].rolling(window=10).mean()\n",
    "data['rsi'] = talib.RSI(data['y'].values, timeperiod=16)\n",
    "data['obv'] = talib.OBV(data['y'].values, data['volume'].values)\n",
    "data['macd'], data['signal'], _ = talib.MACD(data['y'].values, fastperiod=12, slowperiod=26, signalperiod=9)\n",
    "\n",
    "# Stochastic Oscillator\n",
    "data['k'], data['d'] = talib.STOCH(data['high'].values, data['low'].values, data['y'].values, fastk_period=14, slowk_period=3, slowd_period=3)\n",
    "\n",
    "# ATR (Average True Range)\n",
    "data['atr'] = talib.ATR(data['high'].values, data['low'].values, data['y'].values, timeperiod=14)\n",
    "\n",
    "# Bollinger Bands\n",
    "data['upper'], data['middle'], data['lower'] = talib.BBANDS(data['y'].values, timeperiod=20)\n",
    "\n",
    "# Remove NaN rows created due to rolling operations and indicators\n",
    "data.dropna(inplace=True)"
   ]
  },
  {
   "cell_type": "markdown",
   "metadata": {},
   "source": [
    "Fit and Train the Prophet model with features/regressors"
   ]
  },
  {
   "cell_type": "code",
   "execution_count": null,
   "metadata": {},
   "outputs": [],
   "source": [
    "from prophet import Prophet\n",
    "\n",
    "# Initialize the Prophet model\n",
    "model = Prophet(\n",
    "    yearly_seasonality=False,\n",
    "    weekly_seasonality=True,\n",
    "    daily_seasonality=True,\n",
    "    seasonality_mode='multiplicative',\n",
    "    changepoint_prior_scale=0.05\n",
    ")\n",
    "\n",
    "# Add regressors for the model\n",
    "model.add_regressor('rsi')\n",
    "model.add_regressor('obv')\n",
    "model.add_regressor('ma5')\n",
    "model.add_regressor('ma10')\n",
    "model.add_regressor('macd')\n",
    "model.add_regressor('signal')\n",
    "model.add_regressor('k')\n",
    "model.add_regressor('d')\n",
    "model.add_regressor('atr')\n",
    "model.add_regressor('upper')\n",
    "model.add_regressor('middle')\n",
    "model.add_regressor('lower')\n",
    "\n",
    "# Train the model with the data\n",
    "model.fit(data)"
   ]
  },
  {
   "cell_type": "markdown",
   "metadata": {},
   "source": [
    "Create future date data for which we want to predict the Bitcoin prices and then generate forecasts. Also demonstrate Forecasting with the Regressor/Feature"
   ]
  },
  {
   "cell_type": "code",
   "execution_count": null,
   "id": "91cce68a",
   "metadata": {},
   "outputs": [],
   "source": [
    "\n",
    "# Initialize an empty dictionary to hold the forecasts for each indicator\n",
    "forecasts = {}\n",
    "\n",
    "# List of all TA indicators\n",
    "indicators = ['ma5', 'ma10', 'rsi', 'obv', 'macd', 'signal', 'k', 'd', 'atr', 'upper', 'middle', 'lower']\n",
    "\n",
    "# Loop through each indicator to forecast it\n",
    "for indicator in indicators:\n",
    "    # Prepare DataFrame for Prophet\n",
    "    ind_df = data[['ds', indicator]].dropna()\n",
    "    ind_df.rename(columns={indicator: 'y'}, inplace=True)\n",
    "    \n",
    "    # Initialize and fit Prophet model\n",
    "    ind_model = Prophet()\n",
    "    ind_model.fit(ind_df)\n",
    "    \n",
    "    # Make future DataFrame and forecast\n",
    "    ind_future = ind_model.make_future_dataframe(periods=365)\n",
    "    ind_forecast = ind_model.predict(ind_future)\n",
    "    \n",
    "    # Store the forecast in the dictionary\n",
    "    forecasts[indicator] = ind_forecast['yhat']\n",
    "\n",
    "# Prepare the main future DataFrame\n",
    "main_future = model.make_future_dataframe(periods=365)\n",
    "\n",
    "# Add the forecasted values of each indicator to the main future DataFrame\n",
    "for indicator in indicators:\n",
    "    main_future[indicator] = forecasts[indicator]\n",
    "\n",
    "# Now you can proceed with the main Prophet model's prediction\n",
    "main_forecast = model.predict(main_future)"
   ]
  },
  {
   "cell_type": "markdown",
   "metadata": {},
   "source": [
    "Predict the price for the next day"
   ]
  },
  {
   "cell_type": "code",
   "execution_count": null,
   "metadata": {},
   "outputs": [],
   "source": [
    "# Predict Bitcoin price for the next day\n",
    "future_day = model.make_future_dataframe(periods=1, freq='D', include_history=False)\n",
    "\n",
    "# Use the first forecasted value for each TA indicator for the next day\n",
    "for indicator in indicators:\n",
    "    next_day_value = forecasts[indicator].iloc[0]\n",
    "    future_day[indicator] = next_day_value\n",
    "\n",
    "# Generate the one-day-ahead forecast\n",
    "forecast_day = model.predict(future_day)\n",
    "next_day_price = forecast_day['yhat'].values[0]\n",
    "print(f\"Predicted Bitcoin price for the next day: ${next_day_price:.2f}\")"
   ]
  },
  {
   "cell_type": "markdown",
   "metadata": {},
   "source": [
    "Rolling Window Back-Testing"
   ]
  },
  {
   "cell_type": "code",
   "execution_count": null,
   "metadata": {},
   "outputs": [],
   "source": [
    "# Define window sizes\n",
    "training_window_size = 80\n",
    "testing_window_size = 10\n",
    "\n",
    "def train_and_forecast(train_data, testing_window_size):\n",
    "    # Initialize and configure the Prophet model with best parameters\n",
    "    model = Prophet(**best_params)\n",
    "    \n",
    "    # Add the regressors\n",
    "    for indicator in indicators:\n",
    "        model.add_regressor(indicator)\n",
    "    \n",
    "    model.fit(train_data)\n",
    "    \n",
    "    future = model.make_future_dataframe(periods=testing_window_size)\n",
    "    # Ensure the future dataframe has the regressors for the testing window\n",
    "    for indicator in indicators:\n",
    "        future[indicator] = pd.concat([train_data[indicator], test_data[indicator]], ignore_index=True)\n",
    "    \n",
    "    forecast = model.predict(future)\n",
    "    \n",
    "    return forecast.tail(testing_window_size)\n",
    "\n",
    "# Initialize the starting indices for the rolling window\n",
    "start_idx = 0\n",
    "end_idx = training_window_size + testing_window_size\n",
    "\n",
    "forecasts = []\n",
    "actuals = []\n",
    "\n",
    "# Roll the window through the dataset\n",
    "while end_idx <= len(data):\n",
    "    train_data = data.iloc[start_idx:end_idx-testing_window_size]\n",
    "    test_data = data.iloc[end_idx-testing_window_size:end_idx]\n",
    "    \n",
    "    # # Print the head of train_data and test_data\n",
    "    # print(\"Train Data:\")\n",
    "    # print(train_data.head())\n",
    "    # print(\"\\nTest Data:\")\n",
    "    # print(test_data.head())\n",
    "    # print(\"---------------------------------------------------\")\n",
    "    \n",
    "    forecast = train_and_forecast(train_data, testing_window_size)\n",
    "    \n",
    "    forecasts.append(forecast)\n",
    "    actuals.append(test_data)\n",
    "    \n",
    "    start_idx += testing_window_size\n",
    "    end_idx += testing_window_size"
   ]
  },
  {
   "cell_type": "markdown",
   "metadata": {},
   "source": [
    "Evaluation"
   ]
  },
  {
   "cell_type": "code",
   "execution_count": null,
   "metadata": {},
   "outputs": [],
   "source": [
    "import numpy as np\n",
    "from sklearn.metrics import mean_squared_error\n",
    "\n",
    "rmses = []\n",
    "\n",
    "for forecast, actual in zip(forecasts, actuals):\n",
    "    rmse = np.sqrt(mean_squared_error(actual['y'], forecast['yhat']))\n",
    "    rmses.append(rmse)\n",
    "\n",
    "average_rmse = np.mean(rmses)\n",
    "\n",
    "print(f\"Average RMSE over all rolling test windows: {average_rmse:.2f}\")"
   ]
  },
  {
   "cell_type": "markdown",
   "metadata": {},
   "source": [
    "Visualize & Analyze"
   ]
  },
  {
   "cell_type": "code",
   "execution_count": null,
   "metadata": {},
   "outputs": [],
   "source": [
    "import plotly.graph_objects as go\n",
    "\n",
    "for forecast, actual in zip(forecasts, actuals):\n",
    "    fig = go.Figure()\n",
    "\n",
    "    # Add actual data trace\n",
    "    fig.add_trace(go.Scatter(x=actual['ds'], y=actual['y'], mode='lines', name='Actual'))\n",
    "\n",
    "    # Add forecasted data trace\n",
    "    fig.add_trace(go.Scatter(x=forecast['ds'], y=forecast['yhat'], mode='lines', name='Forecast'))\n",
    "\n",
    "    # Add confidence interval\n",
    "    fig.add_trace(go.Scatter(x=forecast['ds'], y=forecast['yhat_upper'], fill=None, mode='lines', line=dict(color='gray'), name='Upper Bound'))\n",
    "    fig.add_trace(go.Scatter(x=forecast['ds'], y=forecast['yhat_lower'], fill='tonexty', mode='lines', line=dict(color='gray'), name='Lower Bound'))\n",
    "\n",
    "    # Layout settings\n",
    "    fig.update_layout(title='Actual vs. Forecasted Bitcoin Prices', xaxis_title='Date', yaxis_title='Price', hovermode='x unified')\n",
    "    \n",
    "    fig.show()"
   ]
  },
  {
   "cell_type": "markdown",
   "metadata": {},
   "source": [
    "Visualize the predicted prices"
   ]
  },
  {
   "cell_type": "code",
   "execution_count": null,
   "metadata": {},
   "outputs": [],
   "source": [
    "fig1 = model.plot(main_forecast)"
   ]
  },
  {
   "cell_type": "markdown",
   "metadata": {},
   "source": [
    " Break down the forecast into its various components"
   ]
  },
  {
   "cell_type": "code",
   "execution_count": null,
   "metadata": {},
   "outputs": [],
   "source": [
    "fig2 = model.plot_components(main_forecast)"
   ]
  },
  {
   "cell_type": "markdown",
   "metadata": {},
   "source": [
    "Setup & Perform Cross-Validation"
   ]
  },
  {
   "cell_type": "code",
   "execution_count": null,
   "metadata": {},
   "outputs": [],
   "source": [
    "from prophet.diagnostics import cross_validation\n",
    "\n",
    "# Here's an example setup:\n",
    "# Initial training period = 730 days (2 years)\n",
    "# Horizon = 90 days\n",
    "# Period = 30 days (i.e., make a forecast every 30 days)\n",
    "\n",
    "df_cv = cross_validation(model, initial='730 days', period='30 days', horizon='90 days')"
   ]
  },
  {
   "cell_type": "markdown",
   "metadata": {},
   "source": [
    "Compute Performance Metrics"
   ]
  },
  {
   "cell_type": "code",
   "execution_count": null,
   "metadata": {},
   "outputs": [],
   "source": [
    "from prophet.diagnostics import performance_metrics\n",
    "\n",
    "df_p = performance_metrics(df_cv)\n",
    "print(df_p.head())"
   ]
  },
  {
   "cell_type": "markdown",
   "metadata": {},
   "source": [
    "Visualizing Performance"
   ]
  },
  {
   "cell_type": "code",
   "execution_count": null,
   "metadata": {},
   "outputs": [],
   "source": [
    "from prophet.plot import plot_cross_validation_metric\n",
    "\n",
    "fig = plot_cross_validation_metric(df_cv, metric='mape')"
   ]
  },
  {
   "cell_type": "markdown",
   "metadata": {},
   "source": [
    "Compute the percentage accuracy from MAPE"
   ]
  },
  {
   "cell_type": "code",
   "execution_count": null,
   "metadata": {},
   "outputs": [],
   "source": [
    "# Assuming df_p is the result from the performance_metrics function\n",
    "mape = df_p['mape'].mean()\n",
    "accuracy = 100 - (mape * 100)\n",
    "print(f\"Forecast Accuracy: {accuracy:.2f}%\")"
   ]
  }
 ],
 "metadata": {
  "kernelspec": {
   "display_name": ".venv",
   "language": "python",
   "name": "python3"
  },
  "language_info": {
   "codemirror_mode": {
    "name": "ipython",
    "version": 3
   },
   "file_extension": ".py",
   "mimetype": "text/x-python",
   "name": "python",
   "nbconvert_exporter": "python",
   "pygments_lexer": "ipython3",
   "version": "3.10.10"
  }
 },
 "nbformat": 4,
 "nbformat_minor": 2
}
