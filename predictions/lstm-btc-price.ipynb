{
 "cells": [
  {
   "cell_type": "markdown",
   "metadata": {},
   "source": [
    "**Data Collection using CCXT**"
   ]
  },
  {
   "cell_type": "markdown",
   "metadata": {},
   "source": [
    "Import the required libraries"
   ]
  },
  {
   "cell_type": "code",
   "execution_count": null,
   "metadata": {},
   "outputs": [],
   "source": [
    "import ccxt\n",
    "import pandas as pd\n",
    "import datetime"
   ]
  },
  {
   "cell_type": "markdown",
   "metadata": {},
   "source": [
    "Set up CCXT with the exchange you prefer (for this example, I'll use Binance)"
   ]
  },
  {
   "cell_type": "code",
   "execution_count": null,
   "metadata": {},
   "outputs": [],
   "source": [
    "exchange = ccxt.binance()"
   ]
  },
  {
   "cell_type": "markdown",
   "metadata": {},
   "source": [
    "Define a function to fetch OHLCV (Open, High, Low, Close, Volume) data for Bitcoin"
   ]
  },
  {
   "cell_type": "code",
   "execution_count": null,
   "metadata": {},
   "outputs": [],
   "source": [
    "def fetch_data(start: str, end: str) -> pd.DataFrame:\n",
    "    \"\"\"\n",
    "    Fetch OHLCV data for Bitcoin from the given start date to the end date.\n",
    "    \"\"\"\n",
    "    # Convert human-readable date to milliseconds since epoch\n",
    "    since = exchange.parse8601(start)\n",
    "    end_timestamp = exchange.parse8601(end)\n",
    "    \n",
    "    # Define the time frame for the data ('1h' for hourly data)\n",
    "    timeframe = '1h'\n",
    "    \n",
    "    # Columns for the dataframe\n",
    "    columns = [\"Timestamp\", \"Open\", \"High\", \"Low\", \"Close\", \"Volume\"]\n",
    "    \n",
    "    all_candles = []\n",
    "    while since < end_timestamp:\n",
    "        candles = exchange.fetch_ohlcv('BTC/USDT', timeframe, since)\n",
    "        if len(candles) == 0:\n",
    "            break\n",
    "        since = candles[-1][0] + 1  # Start the next batch of data right where the previous batch ended\n",
    "        all_candles += candles\n",
    "\n",
    "    # Convert to DataFrame\n",
    "    df = pd.DataFrame(all_candles, columns=columns)\n",
    "    \n",
    "    # Convert the timestamp to a more readable date-time format\n",
    "    df['Timestamp'] = pd.to_datetime(df['Timestamp'], unit='ms')\n",
    "    return df"
   ]
  },
  {
   "cell_type": "markdown",
   "metadata": {},
   "source": [
    "Use the function to fetch data for the last two years"
   ]
  },
  {
   "cell_type": "code",
   "execution_count": null,
   "metadata": {},
   "outputs": [],
   "source": [
    "start_date = (datetime.datetime.now() - datetime.timedelta(days=730)).strftime('%Y-%m-%dT%H:%M:%SZ')\n",
    "end_date = datetime.datetime.now().strftime('%Y-%m-%dT%H:%M:%SZ')\n",
    "\n",
    "bitcoin_data = fetch_data(start_date, end_date)"
   ]
  },
  {
   "cell_type": "markdown",
   "metadata": {},
   "source": [
    "View the first few rows to verify"
   ]
  },
  {
   "cell_type": "code",
   "execution_count": null,
   "metadata": {},
   "outputs": [],
   "source": [
    "print(bitcoin_data.head())"
   ]
  },
  {
   "cell_type": "markdown",
   "metadata": {},
   "source": [
    "**Preprocess Data with New Features**"
   ]
  },
  {
   "cell_type": "code",
   "execution_count": null,
   "metadata": {},
   "outputs": [],
   "source": [
    "import talib\n",
    "\n",
    "# 1. RSI\n",
    "bitcoin_data['RSI'] = talib.RSI(bitcoin_data['Close'].values, timeperiod=14)\n",
    "\n",
    "# 2. MACD\n",
    "macd, macdsignal, macdhist = talib.MACD(bitcoin_data['Close'].values, fastperiod=12, slowperiod=26, signalperiod=9)\n",
    "bitcoin_data['MACD'] = macd\n",
    "bitcoin_data['MACD_Signal'] = macdsignal\n",
    "bitcoin_data['MACD_Histogram'] = macdhist\n",
    "\n",
    "# 3. Bollinger Bands\n",
    "upper, middle, lower = talib.BBANDS(bitcoin_data['Close'].values, timeperiod=20)\n",
    "bitcoin_data['BB_Upper'] = upper\n",
    "bitcoin_data['BB_Middle'] = middle\n",
    "bitcoin_data['BB_Lower'] = lower\n",
    "\n",
    "# 4. Stochastic Oscillator\n",
    "slowk, slowd = talib.STOCH(bitcoin_data['High'].values, \n",
    "                           bitcoin_data['Low'].values, \n",
    "                           bitcoin_data['Close'].values, \n",
    "                           fastk_period=5, slowk_period=3, slowk_matype=0, slowd_period=3, slowd_matype=0)\n",
    "bitcoin_data['SlowK'] = slowk\n",
    "bitcoin_data['SlowD'] = slowd\n",
    "\n",
    "# 5. ATR\n",
    "bitcoin_data['ATR'] = talib.ATR(bitcoin_data['High'].values, \n",
    "                                bitcoin_data['Low'].values, \n",
    "                                bitcoin_data['Close'].values, \n",
    "                                timeperiod=14)\n",
    "\n",
    "# Drop NaN values\n",
    "bitcoin_data.dropna(inplace=True)"
   ]
  },
  {
   "cell_type": "markdown",
   "metadata": {},
   "source": [
    "Check for missing values"
   ]
  },
  {
   "cell_type": "code",
   "execution_count": null,
   "metadata": {},
   "outputs": [],
   "source": [
    "print(bitcoin_data.isnull().sum())"
   ]
  },
  {
   "cell_type": "markdown",
   "metadata": {},
   "source": [
    "Setting the date as the index"
   ]
  },
  {
   "cell_type": "code",
   "execution_count": null,
   "metadata": {},
   "outputs": [],
   "source": [
    "bitcoin_data.set_index('Timestamp', inplace=True)"
   ]
  },
  {
   "cell_type": "markdown",
   "metadata": {},
   "source": [
    "Normalizing the data"
   ]
  },
  {
   "cell_type": "code",
   "execution_count": null,
   "metadata": {},
   "outputs": [],
   "source": [
    "from sklearn.preprocessing import MinMaxScaler\n",
    "\n",
    "scaler = MinMaxScaler()\n",
    "bitcoin_data_scaled = scaler.fit_transform(bitcoin_data)\n",
    "\n",
    "close_scaler = MinMaxScaler()\n",
    "bitcoin_data['Close_Scaled'] = close_scaler.fit_transform(bitcoin_data[['Close']])"
   ]
  },
  {
   "cell_type": "markdown",
   "metadata": {},
   "source": [
    "Creating sequences for the LSTM model"
   ]
  },
  {
   "cell_type": "code",
   "execution_count": null,
   "metadata": {},
   "outputs": [],
   "source": [
    "import numpy as np\n",
    "\n",
    "def create_sequences(data, seq_length):\n",
    "    X, y = [], []\n",
    "\n",
    "    for i in range(len(data) - seq_length):\n",
    "        X.append(data[i:i+seq_length])\n",
    "        y.append(data[i+seq_length, 3])  # 'Close' price is at index 3\n",
    "\n",
    "    return np.array(X), np.array(y)\n",
    "\n",
    "# Sequence length can be tweaked as per your preference, here we use 10\n",
    "seq_length = 10\n",
    "X, y = create_sequences(bitcoin_data_scaled, seq_length)\n"
   ]
  },
  {
   "cell_type": "markdown",
   "metadata": {},
   "source": [
    "Splitting the data into training and testing sets"
   ]
  },
  {
   "cell_type": "code",
   "execution_count": null,
   "metadata": {},
   "outputs": [],
   "source": [
    "train_size = int(0.8 * len(X))\n",
    "X_train, X_test = X[:train_size], X[train_size:]\n",
    "y_train, y_test = y[:train_size], y[train_size:]"
   ]
  },
  {
   "cell_type": "markdown",
   "metadata": {},
   "source": [
    "**Building the LSTM Model**"
   ]
  },
  {
   "cell_type": "markdown",
   "metadata": {},
   "source": [
    "Import necessary libraries"
   ]
  },
  {
   "cell_type": "code",
   "execution_count": null,
   "metadata": {},
   "outputs": [],
   "source": [
    "from keras.models import Sequential\n",
    "from keras.layers import LSTM, Dense, Dropout"
   ]
  },
  {
   "cell_type": "markdown",
   "metadata": {},
   "source": [
    "Define and compile the LSTM model"
   ]
  },
  {
   "cell_type": "code",
   "execution_count": null,
   "metadata": {},
   "outputs": [],
   "source": [
    "model = Sequential()\n",
    "\n",
    "# First LSTM layer\n",
    "model.add(LSTM(units=50, return_sequences=True, input_shape=(X_train.shape[1], bitcoin_data_scaled.shape[1])))\n",
    "model.add(Dropout(0.2))\n",
    "\n",
    "# Second LSTM layer\n",
    "model.add(LSTM(units=50, return_sequences=True))\n",
    "model.add(Dropout(0.2))\n",
    "\n",
    "# Third LSTM layer\n",
    "model.add(LSTM(units=50))\n",
    "model.add(Dropout(0.2))\n",
    "\n",
    "# Output layer\n",
    "model.add(Dense(units=1))\n",
    "\n",
    "# Compiling the model\n",
    "model.compile(optimizer='adam', loss='mean_squared_error')"
   ]
  },
  {
   "cell_type": "markdown",
   "metadata": {},
   "source": [
    "**Training and Testing**"
   ]
  },
  {
   "cell_type": "markdown",
   "metadata": {},
   "source": [
    "Train the Model"
   ]
  },
  {
   "cell_type": "code",
   "execution_count": null,
   "metadata": {},
   "outputs": [],
   "source": [
    "model.fit(X_train, y_train, epochs=20, batch_size=64)"
   ]
  },
  {
   "cell_type": "markdown",
   "metadata": {},
   "source": [
    "Predict on the Test Set"
   ]
  },
  {
   "cell_type": "code",
   "execution_count": null,
   "metadata": {},
   "outputs": [],
   "source": [
    "y_pred = model.predict(X_test)"
   ]
  },
  {
   "cell_type": "markdown",
   "metadata": {},
   "source": [
    "To visualize the model's predictions compared to the true values, it's useful to reverse the normalization and plot the results"
   ]
  },
  {
   "cell_type": "code",
   "execution_count": null,
   "metadata": {},
   "outputs": [],
   "source": [
    "# Inverse transform the predicted and actual values using the new scaler\n",
    "y_pred_transformed = close_scaler.inverse_transform(np.array(y_pred).reshape(-1, 1)).flatten()\n",
    "y_test_transformed = close_scaler.inverse_transform(np.array(y_test).reshape(-1, 1)).flatten()\n",
    "\n",
    "import plotly.graph_objects as go\n",
    "\n",
    "# Create the figure object\n",
    "fig = go.Figure()\n",
    "\n",
    "# Add the actual and predicted price data\n",
    "fig.add_trace(go.Scatter(x=list(range(len(y_test_transformed))), y=y_test_transformed.flatten(), mode='lines', name='Actual Price', line=dict(color='blue')))\n",
    "fig.add_trace(go.Scatter(x=list(range(len(y_pred_transformed))), y=y_pred_transformed.flatten(), mode='lines', name='Predicted Price', line=dict(color='red')))\n",
    "\n",
    "# Adjust the layout\n",
    "fig.update_layout(\n",
    "    title='Bitcoin Price Prediction',\n",
    "    xaxis_title='Time',\n",
    "    yaxis_title='Price',\n",
    "    template=\"plotly_dark\",\n",
    "    height=800\n",
    ")\n",
    "\n",
    "# Display the figure\n",
    "fig.show()"
   ]
  },
  {
   "cell_type": "markdown",
   "metadata": {},
   "source": [
    "Secondary Visualization "
   ]
  },
  {
   "cell_type": "code",
   "execution_count": null,
   "metadata": {},
   "outputs": [],
   "source": [
    "# Create candlestick chart\n",
    "fig = go.Figure(data=[go.Candlestick(x=bitcoin_data.index[train_size + seq_length:],\n",
    "                open=bitcoin_data['Open'][train_size + seq_length:],\n",
    "                high=bitcoin_data['High'][train_size + seq_length:],\n",
    "                low=bitcoin_data['Low'][train_size + seq_length:],\n",
    "                close=bitcoin_data['Close'][train_size + seq_length:])])\n",
    "\n",
    "# Overlay the predictions as yellow dots\n",
    "fig.add_trace(go.Scatter(x=bitcoin_data.index[train_size + seq_length:], y=y_pred_transformed, mode='markers', marker=dict(color='yellow', size=5), name='Predicted Price'))\n",
    "\n",
    "fig.update_layout(\n",
    "    title='Bitcoin Actual vs Predicted Prices',\n",
    "    xaxis_title='Date',\n",
    "    yaxis_title='Price (in USD)',\n",
    "    template=\"plotly_dark\",\n",
    "    height=800\n",
    ")\n",
    "\n",
    "# Display the graph\n",
    "fig.show()"
   ]
  },
  {
   "cell_type": "markdown",
   "metadata": {},
   "source": [
    "**Prediction for the next hour**"
   ]
  },
  {
   "cell_type": "code",
   "execution_count": null,
   "metadata": {},
   "outputs": [],
   "source": [
    "# Step 1: Take the last 60 data points\n",
    "last_60_data = bitcoin_data_scaled[-60:]\n",
    "\n",
    "# Step 2: Reshape the data\n",
    "n_features = bitcoin_data_scaled.shape[1]\n",
    "last_60_data = np.array(last_60_data).reshape(1, -1, n_features)\n",
    "\n",
    "# Step 3: Get the prediction\n",
    "predicted_price = model.predict(last_60_data)\n",
    "\n",
    "# Step 4: Transform the prediction back to the original scale\n",
    "predicted_price_transformed = close_scaler.inverse_transform(predicted_price)\n",
    "\n",
    "print(f\"The predicted Bitcoin price for the next hour is: ${predicted_price_transformed[0][0]}\")"
   ]
  },
  {
   "cell_type": "markdown",
   "metadata": {},
   "source": [
    "Metrics for regression problems"
   ]
  },
  {
   "cell_type": "code",
   "execution_count": null,
   "metadata": {},
   "outputs": [],
   "source": [
    "from sklearn.metrics import mean_absolute_error, mean_squared_error\n",
    "\n",
    "mae = mean_absolute_error(y_test_transformed, y_pred_transformed)\n",
    "mse = mean_squared_error(y_test_transformed, y_pred_transformed)\n",
    "rmse = np.sqrt(mse)\n",
    "\n",
    "print(f\"MAE: {mae}\")\n",
    "print(f\"MSE: {mse}\")\n",
    "print(f\"RMSE: {rmse}\")\n",
    "\n",
    "relative_error = abs(y_pred_transformed - y_test_transformed) / y_test_transformed\n",
    "\n",
    "# Convert relative error to percentage error\n",
    "percentage_error = relative_error * 100\n",
    "\n",
    "# Calculate mean and standard deviation\n",
    "mean_percentage_error = np.mean(percentage_error)\n",
    "std_percentage_error = np.std(percentage_error)\n",
    "\n",
    "print(f\"Mean Percentage Error: {mean_percentage_error:.2f}%\")\n",
    "print(f\"Standard Deviation of Percentage Error: {std_percentage_error:.2f}%\")\n"
   ]
  },
  {
   "cell_type": "markdown",
   "metadata": {},
   "source": [
    "## Interpretation of Model Performance\n",
    "\n",
    "### Mean Percentage Error (MPE) of 1.00%\n",
    "On average, the predicted values deviate from the actual values by about 1%. This means that if the actual price was, say, $10,000, the model's predictions might typically be off by about $100.\n",
    "\n",
    "### Standard Deviation (SD) of Percentage Error of 0.68%\n",
    "This indicates the variability of the percentage errors. Most (about 68%) of the prediction errors will fall within 1% ± 0.68%, i.e., between 0.32% and 1.68%.\n",
    "\n",
    "Considering the volatility and unpredictability of Bitcoin prices, an average error of 1% with a 0.68% standard deviation seems pretty reasonable. However, always consider the context and the specific use-case you have in mind when interpreting these numbers. If you're using this for high-frequency trading, even a 1% error could be significant, while for longer-term predictions or general trend analysis, it might be acceptable.\n"
   ]
  }
 ],
 "metadata": {
  "kernelspec": {
   "display_name": ".venv",
   "language": "python",
   "name": "python3"
  },
  "language_info": {
   "codemirror_mode": {
    "name": "ipython",
    "version": 3
   },
   "file_extension": ".py",
   "mimetype": "text/x-python",
   "name": "python",
   "nbconvert_exporter": "python",
   "pygments_lexer": "ipython3",
   "version": "3.10.10"
  }
 },
 "nbformat": 4,
 "nbformat_minor": 2
}
