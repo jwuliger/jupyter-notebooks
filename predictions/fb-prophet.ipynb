{
 "cells": [
  {
   "cell_type": "code",
   "execution_count": null,
   "metadata": {},
   "outputs": [],
   "source": [
    "import ccxt\n",
    "import pandas as pd\n",
    "import matplotlib.pyplot as plt\n",
    "from prophet import Prophet\n",
    "import talib\n",
    "\n",
    "# Initialize the Binance client\n",
    "binance = ccxt.binance()"
   ]
  },
  {
   "cell_type": "code",
   "execution_count": null,
   "metadata": {},
   "outputs": [],
   "source": [
    "class BinanceDataFetcher:\n",
    "    def __init__(self, symbol: str, timeframe: str = '1h', limit: int = 5000):\n",
    "        self.symbol = symbol\n",
    "        self.timeframe = timeframe\n",
    "        self.limit = limit\n",
    "\n",
    "    def fetch_ohlcv(self):\n",
    "        ohlcv = binance.fetch_ohlcv(self.symbol, self.timeframe, limit=self.limit)\n",
    "        return ohlcv\n",
    "\n",
    "    def ohlcv_to_dataframe(self, ohlcv):\n",
    "        df = pd.DataFrame(ohlcv, columns=['timestamp', 'open', 'high', 'low', 'close', 'volume'])\n",
    "        df['timestamp'] = pd.to_datetime(df['timestamp'], unit='ms')\n",
    "        df.set_index('timestamp', inplace=True)\n",
    "        return df\n",
    "\n",
    "    def fetch_and_process_data(self):\n",
    "        ohlcv = self.fetch_ohlcv()\n",
    "        df = self.ohlcv_to_dataframe(ohlcv)\n",
    "        return df\n",
    "    \n",
    "fetcher = BinanceDataFetcher('BTC/USDT')\n",
    "df = fetcher.fetch_and_process_data()"
   ]
  },
  {
   "cell_type": "code",
   "execution_count": null,
   "metadata": {},
   "outputs": [],
   "source": [
    "def visualize_data(df):\n",
    "    plt.figure(figsize=(15, 7))\n",
    "    df['close'].plot(title=f\"{df.index[0].strftime('%Y-%m-%d')} to {df.index[-1].strftime('%Y-%m-%d')} BTC/USDT Hourly Closing Prices\")\n",
    "    plt.ylabel('Price')\n",
    "    plt.xlabel('Timestamp')\n",
    "    plt.grid()\n",
    "    plt.tight_layout()\n",
    "    plt.show()\n",
    "\n",
    "visualize_data(df)"
   ]
  },
  {
   "cell_type": "markdown",
   "metadata": {},
   "source": [
    "**Preprocess the data for FB Prophet**"
   ]
  },
  {
   "cell_type": "code",
   "execution_count": null,
   "metadata": {},
   "outputs": [],
   "source": [
    "def preprocess_for_prophet(df):\n",
    "    prophet_data = df.reset_index()\n",
    "    prophet_data = prophet_data.rename(columns={'timestamp': 'ds', 'close': 'y'})\n",
    "    return prophet_data\n",
    "\n",
    "prophet_df = preprocess_for_prophet(df)\n",
    "prophet_df.dropna(inplace=True)\n",
    "\n",
    "print(prophet_df.columns)"
   ]
  },
  {
   "cell_type": "markdown",
   "metadata": {},
   "source": [
    "**Computing technical indicators using TA-Lib**"
   ]
  },
  {
   "cell_type": "code",
   "execution_count": null,
   "metadata": {},
   "outputs": [],
   "source": [
    "def compute_technical_indicators(df):\n",
    "    df['RSI'] = talib.RSI(df['y'].values, timeperiod=14)\n",
    "    df['MFI'] = talib.MFI(df['high'].values, df['low'].values, df['y'].values, df['volume'].values, timeperiod=14)\n",
    "    df['OBV'] = talib.OBV(df['y'].values, df['volume'].values)\n",
    "    df['ATR'] = talib.ATR(df['high'].values, df['low'].values, df['close'].values, timeperiod=14)\n",
    "    df['Bollinger_Upper'], df['Bollinger_Middle'], df['Bollinger_Lower'] = talib.BBANDS(df['y'].values, timeperiod=20)\n",
    "    df['Marubozu'] = df['open'] - df['y']\n",
    "    df['Doji'] = (df['high'] - df['low']) / (df['open'] - df['y']).replace({0: 1})\n",
    "    return df\n",
    "\n",
    "df = compute_technical_indicators(df)\n",
    "\n",
    "df.dropna(inplace=True)"
   ]
  },
  {
   "cell_type": "markdown",
   "metadata": {},
   "source": [
    "**Train with FB Prophet**"
   ]
  },
  {
   "cell_type": "code",
   "execution_count": null,
   "metadata": {},
   "outputs": [],
   "source": [
    "def train_prophet_model(prophet_df):\n",
    "    model = Prophet(daily_seasonality=True, yearly_seasonality=False, weekly_seasonality=True)\n",
    "    model.add_seasonality(name='hourly', period=24, fourier_order=8)  # Add custom hourly seasonality\n",
    "    \n",
    "    # Adding extra regressors\n",
    "    for column in ['RSI', 'MFI', 'OBV', 'ATR', 'Bollinger_Upper', 'Bollinger_Middle', 'Bollinger_Lower', 'Marubozu', 'Doji']:\n",
    "        model.add_regressor(column)\n",
    "        \n",
    "    model.fit(prophet_df)\n",
    "    return model\n",
    "\n",
    "model = train_prophet_model(prophet_df)"
   ]
  },
  {
   "cell_type": "markdown",
   "metadata": {},
   "source": [
    "**Forecasting**"
   ]
  },
  {
   "cell_type": "code",
   "execution_count": null,
   "metadata": {},
   "outputs": [],
   "source": [
    "# Let's forecast the next 48 hours (2 days) for BTC/USDT:\n",
    "\n",
    "def forecast(model, df, periods=48):\n",
    "    future = model.make_future_dataframe(periods=periods, freq='H')\n",
    "    future = pd.concat([df, future])  # Concatenate old dataframe to compute technical indicators correctly\n",
    "    future = compute_technical_indicators(future)\n",
    "    \n",
    "    # Only use the future timestamps for prediction\n",
    "    future = future[future['ds'] > df['ds'].iloc[-1]]\n",
    "    \n",
    "    forecast = model.predict(future)\n",
    "    return forecast\n",
    "\n",
    "forecast_df = forecast(model, prophet_df)"
   ]
  },
  {
   "cell_type": "markdown",
   "metadata": {},
   "source": [
    "**Visualize the forecast**"
   ]
  },
  {
   "cell_type": "code",
   "execution_count": null,
   "metadata": {},
   "outputs": [],
   "source": [
    "def visualize_forecast(model, forecast_df):\n",
    "    fig = model.plot(forecast_df, figsize=(15, 7))\n",
    "    plt.title(\"BTC/USDT Price Forecast for Next 48 Hours\")\n",
    "    plt.xlabel('Timestamp')\n",
    "    plt.ylabel('Price')\n",
    "    plt.grid()\n",
    "    plt.show()\n",
    "\n",
    "visualize_forecast(model, forecast_df)"
   ]
  },
  {
   "cell_type": "markdown",
   "metadata": {},
   "source": [
    "**Extract Confidence Interval**"
   ]
  },
  {
   "cell_type": "code",
   "execution_count": null,
   "metadata": {},
   "outputs": [],
   "source": [
    "def extract_confidence_interval(forecast_df):\n",
    "    # Extracting relevant columns\n",
    "    relevant_columns = ['ds', 'yhat', 'yhat_lower', 'yhat_upper']\n",
    "\n",
    "    # Filtering only future dates\n",
    "    future_confidence_intervals = forecast_df[forecast_df['ds'] > prophet_df['ds'].iloc[-1]][relevant_columns]\n",
    "\n",
    "    # Calculating the width of the confidence interval for each prediction\n",
    "    future_confidence_intervals['interval_width'] = future_confidence_intervals['yhat_upper'] - future_confidence_intervals['yhat_lower']\n",
    "\n",
    "    return future_confidence_intervals\n",
    "\n",
    "confidence_intervals = extract_confidence_interval(forecast_df)\n",
    "\n",
    "# Display the extracted confidence intervals for the next 48 hours\n",
    "print(confidence_intervals)"
   ]
  },
  {
   "cell_type": "markdown",
   "metadata": {},
   "source": [
    "**Deriving a Confidence Score**"
   ]
  },
  {
   "cell_type": "code",
   "execution_count": null,
   "metadata": {},
   "outputs": [],
   "source": [
    "def calculate_confidence_score(row):\n",
    "    relative_width = row['interval_width'] / row['yhat']\n",
    "    # Assuming a maximum relative width of 0.1 for 100% confidence\n",
    "    confidence = max(0, (0.1 - relative_width) * 10)\n",
    "    return min(100, max(0, confidence * 100))\n",
    "\n",
    "confidence_intervals['confidence_score'] = confidence_intervals.apply(calculate_confidence_score, axis=1)\n",
    "\n",
    "for index, row in confidence_intervals.iterrows():\n",
    "    timestamp = row['ds']\n",
    "    confidence_score = row['confidence_score']\n",
    "    print(f\"Timestamp: {timestamp}, Confidence Score: {confidence_score:.2f}%\")"
   ]
  }
 ],
 "metadata": {
  "kernelspec": {
   "display_name": ".venv",
   "language": "python",
   "name": "python3"
  },
  "language_info": {
   "codemirror_mode": {
    "name": "ipython",
    "version": 3
   },
   "file_extension": ".py",
   "mimetype": "text/x-python",
   "name": "python",
   "nbconvert_exporter": "python",
   "pygments_lexer": "ipython3",
   "version": "3.10.10"
  }
 },
 "nbformat": 4,
 "nbformat_minor": 2
}
