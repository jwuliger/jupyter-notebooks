{
 "cells": [
  {
   "cell_type": "markdown",
   "metadata": {},
   "source": [
    "**Data Collection & Preprocessing**"
   ]
  },
  {
   "cell_type": "code",
   "execution_count": 29,
   "metadata": {},
   "outputs": [],
   "source": [
    "import ccxt\n",
    "import pandas as pd\n",
    "from sklearn.preprocessing import MinMaxScaler\n",
    "\n",
    "# Fetch data\n",
    "def fetch_data(symbol='BTC/USDT', timeframe='1d', limit=5000):\n",
    "    exchange = ccxt.binance()\n",
    "    data = exchange.fetch_ohlcv(symbol, timeframe, limit=limit)\n",
    "    df = pd.DataFrame(data, columns=['timestamp', 'open', 'high', 'low', 'close', 'volume'])\n",
    "    df['date'] = pd.to_datetime(df['timestamp'], unit='ms')\n",
    "    df.set_index('date', inplace=True)\n",
    "    df.drop('timestamp', axis=1, inplace=True)\n",
    "    return df\n",
    "\n",
    "# Preprocessing\n",
    "def preprocess_data(df):\n",
    "    # General scaler\n",
    "    scaler = MinMaxScaler()\n",
    "    df_scaled = scaler.fit_transform(df)\n",
    "    \n",
    "    # Close scaler\n",
    "    close_scaler = MinMaxScaler()\n",
    "    df['close'] = close_scaler.fit_transform(df[['close']])\n",
    "    \n",
    "    df = pd.DataFrame(df_scaled, columns=df.columns, index=df.index)\n",
    "    return df, scaler, close_scaler"
   ]
  },
  {
   "cell_type": "markdown",
   "metadata": {},
   "source": [
    "**Feature Engineering**"
   ]
  },
  {
   "cell_type": "code",
   "execution_count": 30,
   "metadata": {},
   "outputs": [],
   "source": [
    "import talib\n",
    "\n",
    "def add_technical_indicators(df):\n",
    "    df['SMA'] = talib.SMA(df['close'], timeperiod=14)\n",
    "    df['RSI'] = talib.RSI(df['close'], timeperiod=14)\n",
    "    df['MACD'], df['MACD_signal'], _ = talib.MACD(df['close'])\n",
    "    df.dropna(inplace=True)\n",
    "    return df\n"
   ]
  },
  {
   "cell_type": "markdown",
   "metadata": {},
   "source": [
    "**LSTM Model Design**"
   ]
  },
  {
   "cell_type": "code",
   "execution_count": 31,
   "metadata": {},
   "outputs": [],
   "source": [
    "from keras.models import Sequential\n",
    "from keras.layers import LSTM, Dense, Dropout\n",
    "\n",
    "def build_model(input_shape):\n",
    "    model = Sequential()\n",
    "    model.add(LSTM(50, return_sequences=True, input_shape=input_shape))\n",
    "    model.add(Dropout(0.2))\n",
    "    model.add(LSTM(50, return_sequences=False))\n",
    "    model.add(Dropout(0.2))\n",
    "    model.add(Dense(25))\n",
    "    model.add(Dense(1))\n",
    "\n",
    "    model.compile(optimizer='adam', loss='mean_squared_error')\n",
    "    return model"
   ]
  },
  {
   "cell_type": "markdown",
   "metadata": {},
   "source": [
    "**Training Data Preparation**"
   ]
  },
  {
   "cell_type": "code",
   "execution_count": 32,
   "metadata": {},
   "outputs": [],
   "source": [
    "def create_sequences(data, sequence_length):\n",
    "    x, y = [], []\n",
    "    data_values = data.values  # Convert dataframe to numpy array\n",
    "    for i in range(len(data_values) - sequence_length):\n",
    "        x.append(data_values[i:i+sequence_length])\n",
    "        y.append(data_values[i+sequence_length, 3])  # Assuming 'close' prices are at index 3\n",
    "    return np.array(x), np.array(y)"
   ]
  },
  {
   "cell_type": "markdown",
   "metadata": {},
   "source": [
    "**Execution**"
   ]
  },
  {
   "cell_type": "code",
   "execution_count": 33,
   "metadata": {},
   "outputs": [
    {
     "name": "stdout",
     "output_type": "stream",
     "text": [
      "Epoch 1/50\n",
      "26/26 [==============================] - 4s 59ms/step - loss: 1265975424.0000 - val_loss: 793496768.0000\n",
      "Epoch 2/50\n",
      "26/26 [==============================] - 1s 26ms/step - loss: 1265074048.0000 - val_loss: 792577728.0000\n",
      "Epoch 3/50\n",
      "26/26 [==============================] - 1s 27ms/step - loss: 1263913856.0000 - val_loss: 791526784.0000\n",
      "Epoch 4/50\n",
      "26/26 [==============================] - 1s 28ms/step - loss: 1262580480.0000 - val_loss: 790318144.0000\n",
      "Epoch 5/50\n",
      "26/26 [==============================] - 1s 27ms/step - loss: 1261018496.0000 - val_loss: 788855168.0000\n",
      "Epoch 6/50\n",
      "26/26 [==============================] - 1s 27ms/step - loss: 1259155328.0000 - val_loss: 787186816.0000\n",
      "Epoch 7/50\n",
      "26/26 [==============================] - 1s 26ms/step - loss: 1257069824.0000 - val_loss: 785309504.0000\n",
      "Epoch 8/50\n",
      "26/26 [==============================] - 1s 27ms/step - loss: 1254717312.0000 - val_loss: 783202816.0000\n",
      "Epoch 9/50\n",
      "26/26 [==============================] - 1s 27ms/step - loss: 1252100224.0000 - val_loss: 780867904.0000\n",
      "Epoch 10/50\n",
      "26/26 [==============================] - 1s 27ms/step - loss: 1249183616.0000 - val_loss: 778309248.0000\n",
      "Epoch 11/50\n",
      "26/26 [==============================] - 1s 27ms/step - loss: 1246148096.0000 - val_loss: 775527424.0000\n",
      "Epoch 12/50\n",
      "26/26 [==============================] - 1s 29ms/step - loss: 1242563328.0000 - val_loss: 772514176.0000\n",
      "Epoch 13/50\n",
      "26/26 [==============================] - 1s 28ms/step - loss: 1238953088.0000 - val_loss: 769296128.0000\n",
      "Epoch 14/50\n",
      "26/26 [==============================] - 1s 27ms/step - loss: 1234950912.0000 - val_loss: 765823936.0000\n",
      "Epoch 15/50\n",
      "26/26 [==============================] - 1s 27ms/step - loss: 1230703360.0000 - val_loss: 762153024.0000\n",
      "Epoch 16/50\n",
      "26/26 [==============================] - 1s 28ms/step - loss: 1226073344.0000 - val_loss: 758254784.0000\n",
      "Epoch 17/50\n",
      "26/26 [==============================] - 1s 27ms/step - loss: 1221589632.0000 - val_loss: 754168704.0000\n",
      "Epoch 18/50\n",
      "26/26 [==============================] - 1s 27ms/step - loss: 1216440192.0000 - val_loss: 749852672.0000\n",
      "Epoch 19/50\n",
      "26/26 [==============================] - 1s 26ms/step - loss: 1210855296.0000 - val_loss: 745352320.0000\n",
      "Epoch 20/50\n",
      "26/26 [==============================] - 1s 26ms/step - loss: 1205800320.0000 - val_loss: 740628224.0000\n",
      "Epoch 21/50\n",
      "26/26 [==============================] - 1s 27ms/step - loss: 1200012288.0000 - val_loss: 735677248.0000\n",
      "Epoch 22/50\n",
      "26/26 [==============================] - 1s 27ms/step - loss: 1193987840.0000 - val_loss: 730601088.0000\n",
      "Epoch 23/50\n",
      "26/26 [==============================] - 1s 26ms/step - loss: 1188125440.0000 - val_loss: 725298688.0000\n",
      "Epoch 24/50\n",
      "26/26 [==============================] - 1s 27ms/step - loss: 1181706880.0000 - val_loss: 719897088.0000\n",
      "Epoch 25/50\n",
      "26/26 [==============================] - 1s 27ms/step - loss: 1174981248.0000 - val_loss: 714263680.0000\n",
      "Epoch 26/50\n",
      "26/26 [==============================] - 1s 27ms/step - loss: 1167809664.0000 - val_loss: 708433792.0000\n",
      "Epoch 27/50\n",
      "26/26 [==============================] - 1s 27ms/step - loss: 1161278208.0000 - val_loss: 702496128.0000\n",
      "Epoch 28/50\n",
      "26/26 [==============================] - 1s 27ms/step - loss: 1153469952.0000 - val_loss: 696401024.0000\n",
      "Epoch 29/50\n",
      "26/26 [==============================] - 1s 27ms/step - loss: 1146634368.0000 - val_loss: 690076416.0000\n",
      "Epoch 30/50\n",
      "26/26 [==============================] - 1s 27ms/step - loss: 1139182336.0000 - val_loss: 683724288.0000\n",
      "Epoch 31/50\n",
      "26/26 [==============================] - 1s 26ms/step - loss: 1131093632.0000 - val_loss: 677086528.0000\n",
      "Epoch 32/50\n",
      "26/26 [==============================] - 1s 26ms/step - loss: 1123660416.0000 - val_loss: 670410112.0000\n",
      "Epoch 33/50\n",
      "26/26 [==============================] - 1s 27ms/step - loss: 1114588544.0000 - val_loss: 663536320.0000\n",
      "Epoch 34/50\n",
      "26/26 [==============================] - 1s 27ms/step - loss: 1107975168.0000 - val_loss: 656564800.0000\n",
      "Epoch 35/50\n",
      "26/26 [==============================] - 1s 27ms/step - loss: 1098251264.0000 - val_loss: 649467904.0000\n",
      "Epoch 36/50\n",
      "26/26 [==============================] - 1s 28ms/step - loss: 1089814528.0000 - val_loss: 642314048.0000\n",
      "Epoch 37/50\n",
      "26/26 [==============================] - 1s 28ms/step - loss: 1081492608.0000 - val_loss: 635036736.0000\n",
      "Epoch 38/50\n",
      "26/26 [==============================] - 1s 28ms/step - loss: 1071783232.0000 - val_loss: 627571840.0000\n",
      "Epoch 39/50\n",
      "26/26 [==============================] - 1s 28ms/step - loss: 1062122944.0000 - val_loss: 619982144.0000\n",
      "Epoch 40/50\n",
      "26/26 [==============================] - 1s 29ms/step - loss: 1053542464.0000 - val_loss: 612427648.0000\n",
      "Epoch 41/50\n",
      "26/26 [==============================] - 1s 28ms/step - loss: 1044501056.0000 - val_loss: 604569088.0000\n",
      "Epoch 42/50\n",
      "26/26 [==============================] - 1s 27ms/step - loss: 1035439296.0000 - val_loss: 596754624.0000\n",
      "Epoch 43/50\n",
      "26/26 [==============================] - 1s 27ms/step - loss: 1025263680.0000 - val_loss: 588790976.0000\n",
      "Epoch 44/50\n",
      "26/26 [==============================] - 1s 27ms/step - loss: 1015690496.0000 - val_loss: 580817152.0000\n",
      "Epoch 45/50\n",
      "26/26 [==============================] - 1s 28ms/step - loss: 1006467648.0000 - val_loss: 572745344.0000\n",
      "Epoch 46/50\n",
      "26/26 [==============================] - 1s 27ms/step - loss: 997095296.0000 - val_loss: 564699264.0000\n",
      "Epoch 47/50\n",
      "26/26 [==============================] - 1s 28ms/step - loss: 986343104.0000 - val_loss: 556603264.0000\n",
      "Epoch 48/50\n",
      "26/26 [==============================] - 1s 27ms/step - loss: 976315776.0000 - val_loss: 548424064.0000\n",
      "Epoch 49/50\n",
      "26/26 [==============================] - 1s 27ms/step - loss: 967367488.0000 - val_loss: 540080768.0000\n",
      "Epoch 50/50\n",
      "26/26 [==============================] - 1s 27ms/step - loss: 956097984.0000 - val_loss: 531802816.0000\n"
     ]
    },
    {
     "data": {
      "text/plain": [
       "<keras.src.callbacks.History at 0x21cc63a27a0>"
      ]
     },
     "execution_count": 33,
     "metadata": {},
     "output_type": "execute_result"
    }
   ],
   "source": [
    "import numpy as np\n",
    "\n",
    "# Fetch, preprocess and add features\n",
    "df = fetch_data()\n",
    "train, scaler, close_scaler = preprocess_data(train)\n",
    "df = add_technical_indicators(df)\n",
    "\n",
    "# Splitting data (let's say last 100 rows as test set)\n",
    "train = df[:-100]\n",
    "test = df[-100:]\n",
    "\n",
    "# Create sequences\n",
    "sequence_length = 60\n",
    "x_train, y_train = create_sequences(train, sequence_length)\n",
    "x_test, y_test = create_sequences(test, sequence_length)\n",
    "\n",
    "# Build and train the model\n",
    "model = build_model((x_train.shape[1], x_train.shape[2]))\n",
    "model.fit(x_train, y_train, batch_size=32, epochs=50, validation_data=(x_test, y_test))"
   ]
  },
  {
   "cell_type": "markdown",
   "metadata": {},
   "source": [
    "**Visualize**"
   ]
  },
  {
   "cell_type": "code",
   "execution_count": 34,
   "metadata": {},
   "outputs": [
    {
     "name": "stdout",
     "output_type": "stream",
     "text": [
      "2/2 [==============================] - 1s 8ms/step\n"
     ]
    },
    {
     "data": {
      "image/png": "[encoded data removed]",
      "text/plain": [
       "<Figure size 1500x600 with 1 Axes>"
      ]
     },
     "metadata": {},
     "output_type": "display_data"
    }
   ],
   "source": [
    "import numpy as np\n",
    "import matplotlib.pyplot as plt\n",
    "\n",
    "# Get predictions\n",
    "predictions = model.predict(x_test)\n",
    "\n",
    "# Inverse transform the predictions and actual values to original scale\n",
    "predicted_prices = close_scaler.inverse_transform(predictions)\n",
    "actual_prices = close_scaler.inverse_transform(y_test.reshape(-1, 1))\n",
    "\n",
    "# Plotting\n",
    "plt.figure(figsize=(15, 6))\n",
    "plt.plot(actual_prices, color='blue', label='Actual Prices')\n",
    "plt.plot(predicted_prices, color='red', linestyle='dashed', label='Predicted Prices')\n",
    "plt.title('Cryptocurrency Price Prediction')\n",
    "plt.xlabel('Time')\n",
    "plt.ylabel('Price')\n",
    "plt.legend()\n",
    "plt.show()"
   ]
  }
 ],
 "metadata": {
  "kernelspec": {
   "display_name": ".venv",
   "language": "python",
   "name": "python3"
  },
  "language_info": {
   "codemirror_mode": {
    "name": "ipython",
    "version": 3
   },
   "file_extension": ".py",
   "mimetype": "text/x-python",
   "name": "python",
   "nbconvert_exporter": "python",
   "pygments_lexer": "ipython3",
   "version": "3.10.10"
  }
 },
 "nbformat": 4,
 "nbformat_minor": 2
}
